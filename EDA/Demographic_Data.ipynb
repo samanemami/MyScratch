{
 "cells": [
  {
   "cell_type": "markdown",
   "id": "8494024b",
   "metadata": {},
   "source": [
    "\n",
    "# Table of contents\n",
    "* About the Notebook\n",
    "* Hypothesis\n",
    "* Importing Libraries\n",
    "* Overview of dataset\n",
    "    * Exploring the Data\n",
    "    * Data sampling\n",
    "    * Visualizing\n",
    "    * Outlier treatment\n",
    "    * Correlation\n",
    "* Conclusion"
   ]
  },
  {
   "cell_type": "markdown",
   "id": "9393660c",
   "metadata": {},
   "source": [
    "# About this notebook\n",
    "In the following notebook, I reviewed the demographic dataset and investigated different aspects of this simple dataset. \n",
    "In the first part, I imported the libraries which I needed for my experiments.\n",
    "To import the dataset, I considered the Panda's library and read the *CSV file by calling the Pandas's method. And to have an overview of our data frame, I called the five top rows of the dataset by the Head method. For the description, I studied the five features of the dataset (In terms of min, max, std, mean, and quartile). Also, one can find the size, type, and dimensions of the dataset in the related cell. \n",
    "\n",
    "To have a clean dataset, I had to check the null or missing values, and if I find any, there are different approaches to deal with them. Hence, I checked the missing values and used another function to remove the null value in the case that we have any.\n",
    "\n",
    "So it is time to dive into the details by exploring more. For this matter, I visualized the data by plotting the histogram of each feature, scatter plot to see the relationship between pair columns, and box plot to have a summary of quantile, max, min, median, and mean of each attribute.\n",
    "\n",
    "Regarding the outlier, I reviewed the box plot and scatter plot, and defined the lower and upper bound to drop the outliers.\n",
    "\n",
    "Finally, I checked the correlation by applying the Pearson method and print out the covariance."
   ]
  },
  {
   "cell_type": "markdown",
   "id": "4c4db22c",
   "metadata": {},
   "source": [
    "# Hypothesis"
   ]
  },
  {
   "cell_type": "markdown",
   "id": "a90b3a85",
   "metadata": {},
   "source": [
    "* There would be a relationship between different features of the dataset.\n",
    "* There is a high correlation between one pair of columns.\n",
    "* There are duplicated values.\n",
    "* Do customers in different regions spend more per transaction? Which regions spend the most/least?\n",
    "* Is there a relationship between number of items purchased and amount spent?"
   ]
  },
  {
   "cell_type": "markdown",
   "id": "77f4e62f",
   "metadata": {},
   "source": [
    "# Importing Libraries"
   ]
  },
  {
   "cell_type": "code",
   "execution_count": 1,
   "id": "f3ea53da",
   "metadata": {},
   "outputs": [],
   "source": [
    "import random\n",
    "import numpy as np\n",
    "import pandas as pd\n",
    "import seaborn as sns\n",
    "from scipy import stats\n",
    "import matplotlib.pyplot as plt"
   ]
  },
  {
   "cell_type": "markdown",
   "id": "b3770455",
   "metadata": {},
   "source": [
    "For the sake of sampling and other experiments, I added a random seed to generate a different seed for functions."
   ]
  },
  {
   "cell_type": "code",
   "execution_count": 2,
   "id": "c0975097",
   "metadata": {},
   "outputs": [
    {
     "name": "stdout",
     "output_type": "stream",
     "text": [
      "709\n"
     ]
    }
   ],
   "source": [
    "Random_seed = random.randint(1, 1000)\n",
    "print(Random_seed)"
   ]
  },
  {
   "cell_type": "markdown",
   "id": "8e43d7aa",
   "metadata": {},
   "source": [
    "# Obtaining Data"
   ]
  },
  {
   "cell_type": "code",
   "execution_count": 3,
   "id": "40a81b73",
   "metadata": {},
   "outputs": [],
   "source": [
    "data = pd.read_csv('https://github.com/samanemami/MyScratch/blob/main/Demographic_Data/Demographic_Data.csv')"
   ]
  },
  {
   "cell_type": "markdown",
   "id": "ac6eef74",
   "metadata": {},
   "source": [
    "## An overview of dataset"
   ]
  },
  {
   "cell_type": "code",
   "execution_count": 4,
   "id": "e0ac6f72",
   "metadata": {},
   "outputs": [
    {
     "data": {
      "text/html": [
       "<div>\n",
       "<style scoped>\n",
       "    .dataframe tbody tr th:only-of-type {\n",
       "        vertical-align: middle;\n",
       "    }\n",
       "\n",
       "    .dataframe tbody tr th {\n",
       "        vertical-align: top;\n",
       "    }\n",
       "\n",
       "    .dataframe thead th {\n",
       "        text-align: right;\n",
       "    }\n",
       "</style>\n",
       "<table border=\"1\" class=\"dataframe\">\n",
       "  <thead>\n",
       "    <tr style=\"text-align: right;\">\n",
       "      <th></th>\n",
       "      <th>in-store</th>\n",
       "      <th>age</th>\n",
       "      <th>items</th>\n",
       "      <th>amount</th>\n",
       "      <th>region</th>\n",
       "    </tr>\n",
       "  </thead>\n",
       "  <tbody>\n",
       "    <tr>\n",
       "      <th>0</th>\n",
       "      <td>0</td>\n",
       "      <td>37</td>\n",
       "      <td>4</td>\n",
       "      <td>281.03</td>\n",
       "      <td>2</td>\n",
       "    </tr>\n",
       "    <tr>\n",
       "      <th>1</th>\n",
       "      <td>0</td>\n",
       "      <td>35</td>\n",
       "      <td>2</td>\n",
       "      <td>219.51</td>\n",
       "      <td>2</td>\n",
       "    </tr>\n",
       "    <tr>\n",
       "      <th>2</th>\n",
       "      <td>1</td>\n",
       "      <td>45</td>\n",
       "      <td>3</td>\n",
       "      <td>1525.70</td>\n",
       "      <td>4</td>\n",
       "    </tr>\n",
       "    <tr>\n",
       "      <th>3</th>\n",
       "      <td>1</td>\n",
       "      <td>46</td>\n",
       "      <td>3</td>\n",
       "      <td>715.25</td>\n",
       "      <td>3</td>\n",
       "    </tr>\n",
       "    <tr>\n",
       "      <th>4</th>\n",
       "      <td>1</td>\n",
       "      <td>33</td>\n",
       "      <td>4</td>\n",
       "      <td>1937.50</td>\n",
       "      <td>1</td>\n",
       "    </tr>\n",
       "  </tbody>\n",
       "</table>\n",
       "</div>"
      ],
      "text/plain": [
       "   in-store  age  items   amount  region\n",
       "0         0   37      4   281.03       2\n",
       "1         0   35      2   219.51       2\n",
       "2         1   45      3  1525.70       4\n",
       "3         1   46      3   715.25       3\n",
       "4         1   33      4  1937.50       1"
      ]
     },
     "execution_count": 4,
     "metadata": {},
     "output_type": "execute_result"
    }
   ],
   "source": [
    "data.head()"
   ]
  },
  {
   "cell_type": "markdown",
   "id": "48183b25",
   "metadata": {},
   "source": [
    "### Check Data description "
   ]
  },
  {
   "cell_type": "code",
   "execution_count": 5,
   "id": "d89e4438",
   "metadata": {},
   "outputs": [
    {
     "data": {
      "text/html": [
       "<div>\n",
       "<style scoped>\n",
       "    .dataframe tbody tr th:only-of-type {\n",
       "        vertical-align: middle;\n",
       "    }\n",
       "\n",
       "    .dataframe tbody tr th {\n",
       "        vertical-align: top;\n",
       "    }\n",
       "\n",
       "    .dataframe thead th {\n",
       "        text-align: right;\n",
       "    }\n",
       "</style>\n",
       "<table border=\"1\" class=\"dataframe\">\n",
       "  <thead>\n",
       "    <tr style=\"text-align: right;\">\n",
       "      <th></th>\n",
       "      <th>in-store</th>\n",
       "      <th>age</th>\n",
       "      <th>items</th>\n",
       "      <th>amount</th>\n",
       "      <th>region</th>\n",
       "    </tr>\n",
       "  </thead>\n",
       "  <tbody>\n",
       "    <tr>\n",
       "      <th>count</th>\n",
       "      <td>80000.000000</td>\n",
       "      <td>80000.000000</td>\n",
       "      <td>80000.000000</td>\n",
       "      <td>80000.000000</td>\n",
       "      <td>80000.000000</td>\n",
       "    </tr>\n",
       "    <tr>\n",
       "      <th>mean</th>\n",
       "      <td>0.500000</td>\n",
       "      <td>45.757925</td>\n",
       "      <td>4.504975</td>\n",
       "      <td>835.919670</td>\n",
       "      <td>2.675000</td>\n",
       "    </tr>\n",
       "    <tr>\n",
       "      <th>std</th>\n",
       "      <td>0.500003</td>\n",
       "      <td>15.715679</td>\n",
       "      <td>2.061238</td>\n",
       "      <td>721.273736</td>\n",
       "      <td>1.126672</td>\n",
       "    </tr>\n",
       "    <tr>\n",
       "      <th>min</th>\n",
       "      <td>0.000000</td>\n",
       "      <td>18.000000</td>\n",
       "      <td>1.000000</td>\n",
       "      <td>5.004700</td>\n",
       "      <td>1.000000</td>\n",
       "    </tr>\n",
       "    <tr>\n",
       "      <th>25%</th>\n",
       "      <td>0.000000</td>\n",
       "      <td>33.000000</td>\n",
       "      <td>3.000000</td>\n",
       "      <td>285.140000</td>\n",
       "      <td>2.000000</td>\n",
       "    </tr>\n",
       "    <tr>\n",
       "      <th>50%</th>\n",
       "      <td>0.500000</td>\n",
       "      <td>45.000000</td>\n",
       "      <td>4.000000</td>\n",
       "      <td>582.315000</td>\n",
       "      <td>3.000000</td>\n",
       "    </tr>\n",
       "    <tr>\n",
       "      <th>75%</th>\n",
       "      <td>1.000000</td>\n",
       "      <td>56.000000</td>\n",
       "      <td>6.000000</td>\n",
       "      <td>1233.700000</td>\n",
       "      <td>4.000000</td>\n",
       "    </tr>\n",
       "    <tr>\n",
       "      <th>max</th>\n",
       "      <td>1.000000</td>\n",
       "      <td>85.000000</td>\n",
       "      <td>8.000000</td>\n",
       "      <td>3000.000000</td>\n",
       "      <td>4.000000</td>\n",
       "    </tr>\n",
       "  </tbody>\n",
       "</table>\n",
       "</div>"
      ],
      "text/plain": [
       "           in-store           age         items        amount        region\n",
       "count  80000.000000  80000.000000  80000.000000  80000.000000  80000.000000\n",
       "mean       0.500000     45.757925      4.504975    835.919670      2.675000\n",
       "std        0.500003     15.715679      2.061238    721.273736      1.126672\n",
       "min        0.000000     18.000000      1.000000      5.004700      1.000000\n",
       "25%        0.000000     33.000000      3.000000    285.140000      2.000000\n",
       "50%        0.500000     45.000000      4.000000    582.315000      3.000000\n",
       "75%        1.000000     56.000000      6.000000   1233.700000      4.000000\n",
       "max        1.000000     85.000000      8.000000   3000.000000      4.000000"
      ]
     },
     "execution_count": 5,
     "metadata": {},
     "output_type": "execute_result"
    }
   ],
   "source": [
    "data.describe()"
   ]
  },
  {
   "cell_type": "markdown",
   "id": "f720b841",
   "metadata": {},
   "source": [
    "### Check the data types"
   ]
  },
  {
   "cell_type": "code",
   "execution_count": 6,
   "id": "5a5b5843",
   "metadata": {},
   "outputs": [
    {
     "name": "stdout",
     "output_type": "stream",
     "text": [
      "<class 'pandas.core.frame.DataFrame'>\n",
      "RangeIndex: 80000 entries, 0 to 79999\n",
      "Data columns (total 5 columns):\n",
      " #   Column    Non-Null Count  Dtype  \n",
      "---  ------    --------------  -----  \n",
      " 0   in-store  80000 non-null  int64  \n",
      " 1   age       80000 non-null  int64  \n",
      " 2   items     80000 non-null  int64  \n",
      " 3   amount    80000 non-null  float64\n",
      " 4   region    80000 non-null  int64  \n",
      "dtypes: float64(1), int64(4)\n",
      "memory usage: 3.1 MB\n"
     ]
    }
   ],
   "source": [
    "data.info()"
   ]
  },
  {
   "cell_type": "markdown",
   "id": "1b9de03b",
   "metadata": {},
   "source": [
    "## Data cleaning"
   ]
  },
  {
   "cell_type": "markdown",
   "id": "484abc20",
   "metadata": {},
   "source": [
    "### Check missing values"
   ]
  },
  {
   "cell_type": "code",
   "execution_count": 7,
   "id": "4cabdb29",
   "metadata": {},
   "outputs": [
    {
     "data": {
      "text/plain": [
       "in-store    0\n",
       "age         0\n",
       "items       0\n",
       "amount      0\n",
       "region      0\n",
       "dtype: int64"
      ]
     },
     "execution_count": 7,
     "metadata": {},
     "output_type": "execute_result"
    }
   ],
   "source": [
    "data.isnull().sum()"
   ]
  },
  {
   "cell_type": "markdown",
   "id": "4b9f8ff6",
   "metadata": {},
   "source": [
    "### Drop missing value\n",
    "> We do not have any"
   ]
  },
  {
   "cell_type": "code",
   "execution_count": 8,
   "id": "aa5ab076",
   "metadata": {},
   "outputs": [
    {
     "data": {
      "text/plain": [
       "in-store    0\n",
       "age         0\n",
       "items       0\n",
       "amount      0\n",
       "region      0\n",
       "dtype: int64"
      ]
     },
     "execution_count": 8,
     "metadata": {},
     "output_type": "execute_result"
    }
   ],
   "source": [
    "data = data.drop_duplicates()\n",
    "data.isnull().sum()"
   ]
  },
  {
   "cell_type": "markdown",
   "id": "0f128f8b",
   "metadata": {},
   "source": [
    "### Check our data type"
   ]
  },
  {
   "cell_type": "code",
   "execution_count": 9,
   "id": "17fd2c37",
   "metadata": {},
   "outputs": [
    {
     "data": {
      "text/plain": [
       "in-store      int64\n",
       "age           int64\n",
       "items         int64\n",
       "amount      float64\n",
       "region        int64\n",
       "dtype: object"
      ]
     },
     "execution_count": 9,
     "metadata": {},
     "output_type": "execute_result"
    }
   ],
   "source": [
    "data.dtypes"
   ]
  },
  {
   "cell_type": "markdown",
   "id": "ef023097",
   "metadata": {},
   "source": [
    "## Explore the Data"
   ]
  },
  {
   "cell_type": "code",
   "execution_count": 10,
   "id": "4ac25542",
   "metadata": {},
   "outputs": [
    {
     "name": "stdout",
     "output_type": "stream",
     "text": [
      "Index(['in-store', 'age', 'items', 'amount', 'region'], dtype='object')\n"
     ]
    }
   ],
   "source": [
    "print(data.columns)"
   ]
  },
  {
   "cell_type": "markdown",
   "id": "a2b6d1b7",
   "metadata": {},
   "source": [
    "### The number of purchases"
   ]
  },
  {
   "cell_type": "markdown",
   "id": "bab7248c",
   "metadata": {},
   "source": [
    "I tried to group by the dataset to check different features in contrast to the rest."
   ]
  },
  {
   "cell_type": "code",
   "execution_count": 11,
   "id": "eea33929",
   "metadata": {},
   "outputs": [
    {
     "data": {
      "text/plain": [
       "in-store\n",
       "0    39989\n",
       "1    39990\n",
       "Name: in-store, dtype: int64"
      ]
     },
     "execution_count": 11,
     "metadata": {},
     "output_type": "execute_result"
    }
   ],
   "source": [
    "data.groupby('in-store')['in-store'].count()"
   ]
  },
  {
   "cell_type": "markdown",
   "id": "f8d336d4",
   "metadata": {},
   "source": [
    "Here we can find the average of in-store shopping regarding the sale zone"
   ]
  },
  {
   "cell_type": "code",
   "execution_count": 12,
   "id": "fd1d456a",
   "metadata": {},
   "outputs": [
    {
     "data": {
      "text/html": [
       "<div>\n",
       "<style scoped>\n",
       "    .dataframe tbody tr th:only-of-type {\n",
       "        vertical-align: middle;\n",
       "    }\n",
       "\n",
       "    .dataframe tbody tr th {\n",
       "        vertical-align: top;\n",
       "    }\n",
       "\n",
       "    .dataframe thead th {\n",
       "        text-align: right;\n",
       "    }\n",
       "</style>\n",
       "<table border=\"1\" class=\"dataframe\">\n",
       "  <thead>\n",
       "    <tr style=\"text-align: right;\">\n",
       "      <th></th>\n",
       "      <th>in-store</th>\n",
       "    </tr>\n",
       "    <tr>\n",
       "      <th>region</th>\n",
       "      <th></th>\n",
       "    </tr>\n",
       "  </thead>\n",
       "  <tbody>\n",
       "    <tr>\n",
       "      <th>1</th>\n",
       "      <td>1.000000</td>\n",
       "    </tr>\n",
       "    <tr>\n",
       "      <th>2</th>\n",
       "      <td>0.000000</td>\n",
       "    </tr>\n",
       "    <tr>\n",
       "      <th>3</th>\n",
       "      <td>0.611056</td>\n",
       "    </tr>\n",
       "    <tr>\n",
       "      <th>4</th>\n",
       "      <td>0.500000</td>\n",
       "    </tr>\n",
       "  </tbody>\n",
       "</table>\n",
       "</div>"
      ],
      "text/plain": [
       "        in-store\n",
       "region          \n",
       "1       1.000000\n",
       "2       0.000000\n",
       "3       0.611056\n",
       "4       0.500000"
      ]
     },
     "execution_count": 12,
     "metadata": {},
     "output_type": "execute_result"
    }
   ],
   "source": [
    "pd.DataFrame(data.groupby(data['region'])['in-store'].mean())"
   ]
  },
  {
   "cell_type": "markdown",
   "id": "e78547ae",
   "metadata": {},
   "source": [
    "Many libraries in python during the implementation, print out the logs. To have a clear output, I ignore the printing of the outputs."
   ]
  },
  {
   "cell_type": "code",
   "execution_count": 13,
   "id": "ed8455ed",
   "metadata": {},
   "outputs": [
    {
     "data": {
      "text/plain": [
       "Text(0.5, 1.0, 'Number of in store purchases')"
      ]
     },
     "execution_count": 13,
     "metadata": {},
     "output_type": "execute_result"
    },
    {
     "data": {
      "image/png": "[encoded data removed]",
      "text/plain": [
       "<Figure size 360x360 with 1 Axes>"
      ]
     },
     "metadata": {
      "needs_background": "light"
     },
     "output_type": "display_data"
    }
   ],
   "source": [
    "import warnings\n",
    "warnings.simplefilter(\"ignore\")\n",
    "sns.factorplot('in-store', data=data, kind='count', aspect=1)\n",
    "plt.title(\"Number of in store purchases\")"
   ]
  },
  {
   "cell_type": "markdown",
   "id": "9b460dc8",
   "metadata": {},
   "source": [
    "Same as previous without duplicated purchased amount"
   ]
  },
  {
   "cell_type": "code",
   "execution_count": 14,
   "id": "a203a0e1",
   "metadata": {},
   "outputs": [
    {
     "data": {
      "text/plain": [
       "Text(0.5, 1.0, 'Number of in store purchases')"
      ]
     },
     "execution_count": 14,
     "metadata": {},
     "output_type": "execute_result"
    },
    {
     "data": {
      "image/png": "[encoded data removed]",
      "text/plain": [
       "<Figure size 360x360 with 1 Axes>"
      ]
     },
     "metadata": {
      "needs_background": "light"
     },
     "output_type": "display_data"
    }
   ],
   "source": [
    "subset = data.drop_duplicates(subset='amount')\n",
    "sns.factorplot('in-store', data = subset, kind='count', aspect=1)\n",
    "plt.title(\"Number of in store purchases\")"
   ]
  },
  {
   "cell_type": "markdown",
   "id": "96eabab7",
   "metadata": {},
   "source": [
    "### Exploring the amount of purchase in the different zones"
   ]
  },
  {
   "cell_type": "code",
   "execution_count": 41,
   "id": "390b9bc1",
   "metadata": {},
   "outputs": [
    {
     "data": {
      "text/html": [
       "<div>\n",
       "<style scoped>\n",
       "    .dataframe tbody tr th:only-of-type {\n",
       "        vertical-align: middle;\n",
       "    }\n",
       "\n",
       "    .dataframe tbody tr th {\n",
       "        vertical-align: top;\n",
       "    }\n",
       "\n",
       "    .dataframe thead th {\n",
       "        text-align: right;\n",
       "    }\n",
       "</style>\n",
       "<table border=\"1\" class=\"dataframe\">\n",
       "  <thead>\n",
       "    <tr style=\"text-align: right;\">\n",
       "      <th></th>\n",
       "      <th>amount</th>\n",
       "      <th>items</th>\n",
       "    </tr>\n",
       "  </thead>\n",
       "  <tbody>\n",
       "    <tr>\n",
       "      <th>count</th>\n",
       "      <td>56112.000000</td>\n",
       "      <td>56112.000000</td>\n",
       "    </tr>\n",
       "    <tr>\n",
       "      <th>mean</th>\n",
       "      <td>773.777077</td>\n",
       "      <td>4.500570</td>\n",
       "    </tr>\n",
       "    <tr>\n",
       "      <th>std</th>\n",
       "      <td>711.524795</td>\n",
       "      <td>2.062297</td>\n",
       "    </tr>\n",
       "    <tr>\n",
       "      <th>min</th>\n",
       "      <td>5.004700</td>\n",
       "      <td>1.000000</td>\n",
       "    </tr>\n",
       "    <tr>\n",
       "      <th>25%</th>\n",
       "      <td>259.280000</td>\n",
       "      <td>3.000000</td>\n",
       "    </tr>\n",
       "    <tr>\n",
       "      <th>50%</th>\n",
       "      <td>532.005000</td>\n",
       "      <td>4.000000</td>\n",
       "    </tr>\n",
       "    <tr>\n",
       "      <th>75%</th>\n",
       "      <td>971.357500</td>\n",
       "      <td>6.000000</td>\n",
       "    </tr>\n",
       "    <tr>\n",
       "      <th>max</th>\n",
       "      <td>3000.000000</td>\n",
       "      <td>8.000000</td>\n",
       "    </tr>\n",
       "  </tbody>\n",
       "</table>\n",
       "</div>"
      ],
      "text/plain": [
       "             amount         items\n",
       "count  56112.000000  56112.000000\n",
       "mean     773.777077      4.500570\n",
       "std      711.524795      2.062297\n",
       "min        5.004700      1.000000\n",
       "25%      259.280000      3.000000\n",
       "50%      532.005000      4.000000\n",
       "75%      971.357500      6.000000\n",
       "max     3000.000000      8.000000"
      ]
     },
     "execution_count": 41,
     "metadata": {},
     "output_type": "execute_result"
    }
   ],
   "source": [
    "subset[['amount','items']].describe()"
   ]
  },
  {
   "cell_type": "code",
   "execution_count": 43,
   "id": "10388f57",
   "metadata": {},
   "outputs": [
    {
     "data": {
      "text/html": [
       "<style  type=\"text/css\" >\n",
       "#T_3f3da_row0_col0,#T_3f3da_row0_col1,#T_3f3da_row0_col2,#T_3f3da_row0_col3,#T_3f3da_row0_col4,#T_3f3da_row7_col1,#T_3f3da_row7_col2,#T_3f3da_row7_col3,#T_3f3da_row7_col4{\n",
       "            background-color:  #ffffe5;\n",
       "            color:  #000000;\n",
       "        }#T_3f3da_row1_col0,#T_3f3da_row1_col3,#T_3f3da_row1_col4,#T_3f3da_row2_col1,#T_3f3da_row2_col3,#T_3f3da_row4_col0,#T_3f3da_row5_col4,#T_3f3da_row6_col2,#T_3f3da_row6_col3,#T_3f3da_row6_col4{\n",
       "            background-color:  #fafdcb;\n",
       "            color:  #000000;\n",
       "        }#T_3f3da_row1_col1,#T_3f3da_row3_col3,#T_3f3da_row4_col1,#T_3f3da_row4_col2,#T_3f3da_row4_col3,#T_3f3da_row4_col4,#T_3f3da_row5_col2,#T_3f3da_row5_col3,#T_3f3da_row6_col0{\n",
       "            background-color:  #fafdcc;\n",
       "            color:  #000000;\n",
       "        }#T_3f3da_row1_col2,#T_3f3da_row2_col2,#T_3f3da_row2_col4,#T_3f3da_row3_col1,#T_3f3da_row3_col4,#T_3f3da_row5_col1,#T_3f3da_row6_col1{\n",
       "            background-color:  #fafdc9;\n",
       "            color:  #000000;\n",
       "        }#T_3f3da_row2_col0,#T_3f3da_row5_col0{\n",
       "            background-color:  #fafdc8;\n",
       "            color:  #000000;\n",
       "        }#T_3f3da_row3_col0,#T_3f3da_row3_col2{\n",
       "            background-color:  #f9fdc7;\n",
       "            color:  #000000;\n",
       "        }#T_3f3da_row7_col0{\n",
       "            background-color:  #ffffe4;\n",
       "            color:  #000000;\n",
       "        }#T_3f3da_row8_col0,#T_3f3da_row8_col1,#T_3f3da_row8_col2,#T_3f3da_row8_col3,#T_3f3da_row8_col4{\n",
       "            background-color:  #004529;\n",
       "            color:  #f1f1f1;\n",
       "        }</style><table id=\"T_3f3da_\" ><thead>    <tr>        <th class=\"index_name level0\" >region</th>        <th class=\"col_heading level0 col0\" >1</th>        <th class=\"col_heading level0 col1\" >2</th>        <th class=\"col_heading level0 col2\" >3</th>        <th class=\"col_heading level0 col3\" >4</th>        <th class=\"col_heading level0 col4\" >All</th>    </tr>    <tr>        <th class=\"index_name level0\" >items</th>        <th class=\"blank\" ></th>        <th class=\"blank\" ></th>        <th class=\"blank\" ></th>        <th class=\"blank\" ></th>        <th class=\"blank\" ></th>    </tr></thead><tbody>\n",
       "                <tr>\n",
       "                        <th id=\"T_3f3da_level0_row0\" class=\"row_heading level0 row0\" >1</th>\n",
       "                        <td id=\"T_3f3da_row0_col0\" class=\"data row0 col0\" >775</td>\n",
       "                        <td id=\"T_3f3da_row0_col1\" class=\"data row0 col1\" >1069</td>\n",
       "                        <td id=\"T_3f3da_row0_col2\" class=\"data row0 col2\" >920</td>\n",
       "                        <td id=\"T_3f3da_row0_col3\" class=\"data row0 col3\" >1238</td>\n",
       "                        <td id=\"T_3f3da_row0_col4\" class=\"data row0 col4\" >4002</td>\n",
       "            </tr>\n",
       "            <tr>\n",
       "                        <th id=\"T_3f3da_level0_row1\" class=\"row_heading level0 row1\" >2</th>\n",
       "                        <td id=\"T_3f3da_row1_col0\" class=\"data row1 col0\" >1600</td>\n",
       "                        <td id=\"T_3f3da_row1_col1\" class=\"data row1 col1\" >2068</td>\n",
       "                        <td id=\"T_3f3da_row1_col2\" class=\"data row1 col2\" >1877</td>\n",
       "                        <td id=\"T_3f3da_row1_col3\" class=\"data row1 col3\" >2398</td>\n",
       "                        <td id=\"T_3f3da_row1_col4\" class=\"data row1 col4\" >7943</td>\n",
       "            </tr>\n",
       "            <tr>\n",
       "                        <th id=\"T_3f3da_level0_row2\" class=\"row_heading level0 row2\" >3</th>\n",
       "                        <td id=\"T_3f3da_row2_col0\" class=\"data row2 col0\" >1675</td>\n",
       "                        <td id=\"T_3f3da_row2_col1\" class=\"data row2 col1\" >2138</td>\n",
       "                        <td id=\"T_3f3da_row2_col2\" class=\"data row2 col2\" >1897</td>\n",
       "                        <td id=\"T_3f3da_row2_col3\" class=\"data row2 col3\" >2384</td>\n",
       "                        <td id=\"T_3f3da_row2_col4\" class=\"data row2 col4\" >8094</td>\n",
       "            </tr>\n",
       "            <tr>\n",
       "                        <th id=\"T_3f3da_level0_row3\" class=\"row_heading level0 row3\" >4</th>\n",
       "                        <td id=\"T_3f3da_row3_col0\" class=\"data row3 col0\" >1694</td>\n",
       "                        <td id=\"T_3f3da_row3_col1\" class=\"data row3 col1\" >2154</td>\n",
       "                        <td id=\"T_3f3da_row3_col2\" class=\"data row3 col2\" >1984</td>\n",
       "                        <td id=\"T_3f3da_row3_col3\" class=\"data row3 col3\" >2344</td>\n",
       "                        <td id=\"T_3f3da_row3_col4\" class=\"data row3 col4\" >8176</td>\n",
       "            </tr>\n",
       "            <tr>\n",
       "                        <th id=\"T_3f3da_level0_row4\" class=\"row_heading level0 row4\" >5</th>\n",
       "                        <td id=\"T_3f3da_row4_col0\" class=\"data row4 col0\" >1568</td>\n",
       "                        <td id=\"T_3f3da_row4_col1\" class=\"data row4 col1\" >2086</td>\n",
       "                        <td id=\"T_3f3da_row4_col2\" class=\"data row4 col2\" >1825</td>\n",
       "                        <td id=\"T_3f3da_row4_col3\" class=\"data row4 col3\" >2366</td>\n",
       "                        <td id=\"T_3f3da_row4_col4\" class=\"data row4 col4\" >7845</td>\n",
       "            </tr>\n",
       "            <tr>\n",
       "                        <th id=\"T_3f3da_level0_row5\" class=\"row_heading level0 row5\" >6</th>\n",
       "                        <td id=\"T_3f3da_row5_col0\" class=\"data row5 col0\" >1665</td>\n",
       "                        <td id=\"T_3f3da_row5_col1\" class=\"data row5 col1\" >2178</td>\n",
       "                        <td id=\"T_3f3da_row5_col2\" class=\"data row5 col2\" >1823</td>\n",
       "                        <td id=\"T_3f3da_row5_col3\" class=\"data row5 col3\" >2332</td>\n",
       "                        <td id=\"T_3f3da_row5_col4\" class=\"data row5 col4\" >7998</td>\n",
       "            </tr>\n",
       "            <tr>\n",
       "                        <th id=\"T_3f3da_level0_row6\" class=\"row_heading level0 row6\" >7</th>\n",
       "                        <td id=\"T_3f3da_row6_col0\" class=\"data row6 col0\" >1553</td>\n",
       "                        <td id=\"T_3f3da_row6_col1\" class=\"data row6 col1\" >2161</td>\n",
       "                        <td id=\"T_3f3da_row6_col2\" class=\"data row6 col2\" >1867</td>\n",
       "                        <td id=\"T_3f3da_row6_col3\" class=\"data row6 col3\" >2402</td>\n",
       "                        <td id=\"T_3f3da_row6_col4\" class=\"data row6 col4\" >7983</td>\n",
       "            </tr>\n",
       "            <tr>\n",
       "                        <th id=\"T_3f3da_level0_row7\" class=\"row_heading level0 row7\" >8</th>\n",
       "                        <td id=\"T_3f3da_row7_col0\" class=\"data row7 col0\" >828</td>\n",
       "                        <td id=\"T_3f3da_row7_col1\" class=\"data row7 col1\" >1074</td>\n",
       "                        <td id=\"T_3f3da_row7_col2\" class=\"data row7 col2\" >941</td>\n",
       "                        <td id=\"T_3f3da_row7_col3\" class=\"data row7 col3\" >1228</td>\n",
       "                        <td id=\"T_3f3da_row7_col4\" class=\"data row7 col4\" >4071</td>\n",
       "            </tr>\n",
       "            <tr>\n",
       "                        <th id=\"T_3f3da_level0_row8\" class=\"row_heading level0 row8\" >All</th>\n",
       "                        <td id=\"T_3f3da_row8_col0\" class=\"data row8 col0\" >11358</td>\n",
       "                        <td id=\"T_3f3da_row8_col1\" class=\"data row8 col1\" >14928</td>\n",
       "                        <td id=\"T_3f3da_row8_col2\" class=\"data row8 col2\" >13134</td>\n",
       "                        <td id=\"T_3f3da_row8_col3\" class=\"data row8 col3\" >16692</td>\n",
       "                        <td id=\"T_3f3da_row8_col4\" class=\"data row8 col4\" >56112</td>\n",
       "            </tr>\n",
       "    </tbody></table>"
      ],
      "text/plain": [
       "<pandas.io.formats.style.Styler at 0x25c3115c848>"
      ]
     },
     "execution_count": 43,
     "metadata": {},
     "output_type": "execute_result"
    }
   ],
   "source": [
    "pd.crosstab(index=subset['items'], columns=subset['region'],\n",
    "            margins=True).style.background_gradient(cmap='YlGn')"
   ]
  },
  {
   "cell_type": "markdown",
   "id": "8e88af78",
   "metadata": {},
   "source": [
    "With this table, we have the aggregated values of items for each region.\n",
    "I used CrossTab here because with this, categorical variables can easily be visualized."
   ]
  },
  {
   "cell_type": "markdown",
   "id": "e1f00827",
   "metadata": {},
   "source": [
    "## Dropping duplicates values by subsetting the amount\n",
    "From the previous cell, I understand that the plots do not make a sense so, I thought about duplicated values in a specific column.\n",
    "\n",
    "First of all, I sorted my data frame to have the ideal form of table which I was looking for.\n",
    "\n",
    "I stored the modified dataset in a *Sorted* DataFrame"
   ]
  },
  {
   "cell_type": "code",
   "execution_count": 16,
   "id": "a845ebbc",
   "metadata": {},
   "outputs": [
    {
     "data": {
      "text/html": [
       "<div>\n",
       "<style scoped>\n",
       "    .dataframe tbody tr th:only-of-type {\n",
       "        vertical-align: middle;\n",
       "    }\n",
       "\n",
       "    .dataframe tbody tr th {\n",
       "        vertical-align: top;\n",
       "    }\n",
       "\n",
       "    .dataframe thead th {\n",
       "        text-align: right;\n",
       "    }\n",
       "</style>\n",
       "<table border=\"1\" class=\"dataframe\">\n",
       "  <thead>\n",
       "    <tr style=\"text-align: right;\">\n",
       "      <th></th>\n",
       "      <th>in-store</th>\n",
       "      <th>age</th>\n",
       "      <th>items</th>\n",
       "      <th>amount</th>\n",
       "      <th>region</th>\n",
       "    </tr>\n",
       "  </thead>\n",
       "  <tbody>\n",
       "    <tr>\n",
       "      <th>61190</th>\n",
       "      <td>0</td>\n",
       "      <td>36</td>\n",
       "      <td>8</td>\n",
       "      <td>35.448</td>\n",
       "      <td>2</td>\n",
       "    </tr>\n",
       "    <tr>\n",
       "      <th>49719</th>\n",
       "      <td>0</td>\n",
       "      <td>57</td>\n",
       "      <td>8</td>\n",
       "      <td>1490.000</td>\n",
       "      <td>4</td>\n",
       "    </tr>\n",
       "    <tr>\n",
       "      <th>21945</th>\n",
       "      <td>0</td>\n",
       "      <td>30</td>\n",
       "      <td>8</td>\n",
       "      <td>963.560</td>\n",
       "      <td>3</td>\n",
       "    </tr>\n",
       "    <tr>\n",
       "      <th>49728</th>\n",
       "      <td>1</td>\n",
       "      <td>19</td>\n",
       "      <td>8</td>\n",
       "      <td>948.790</td>\n",
       "      <td>4</td>\n",
       "    </tr>\n",
       "    <tr>\n",
       "      <th>74174</th>\n",
       "      <td>1</td>\n",
       "      <td>54</td>\n",
       "      <td>8</td>\n",
       "      <td>1855.200</td>\n",
       "      <td>4</td>\n",
       "    </tr>\n",
       "  </tbody>\n",
       "</table>\n",
       "</div>"
      ],
      "text/plain": [
       "       in-store  age  items    amount  region\n",
       "61190         0   36      8    35.448       2\n",
       "49719         0   57      8  1490.000       4\n",
       "21945         0   30      8   963.560       3\n",
       "49728         1   19      8   948.790       4\n",
       "74174         1   54      8  1855.200       4"
      ]
     },
     "execution_count": 16,
     "metadata": {},
     "output_type": "execute_result"
    }
   ],
   "source": [
    "Sorted = data.sort_values('items', inplace=False)\n",
    "Sorted.drop_duplicates(subset='amount', inplace=True)\n",
    "Sorted.tail()"
   ]
  },
  {
   "cell_type": "code",
   "execution_count": 17,
   "id": "dd30b621",
   "metadata": {},
   "outputs": [
    {
     "name": "stdout",
     "output_type": "stream",
     "text": [
      "       in-store    age  amount  region\n",
      "items                                 \n",
      "1          5699   5699    5699    5699\n",
      "2         11284  11284   11284   11284\n",
      "3         11486  11486   11486   11486\n",
      "4         11594  11594   11594   11594\n",
      "5         11233  11233   11233   11233\n",
      "6         11519  11519   11519   11519\n",
      "7         11376  11376   11376   11376\n",
      "8          5788   5788    5788    5788\n",
      "       in-store    age  amount\n",
      "items                         \n",
      "1          5699   5699    5699\n",
      "2         11284  11284   11284\n",
      "3         11486  11486   11486\n",
      "4         11594  11594   11594\n",
      "5         11233  11233   11233\n",
      "6         11519  11519   11519\n",
      "7         11376  11376   11376\n",
      "8          5788   5788    5788\n"
     ]
    },
    {
     "data": {
      "image/png": "[encoded data removed]",
      "text/plain": [
       "<Figure size 432x288 with 1 Axes>"
      ]
     },
     "metadata": {
      "needs_background": "light"
     },
     "output_type": "display_data"
    }
   ],
   "source": [
    "Sorted = data.groupby(data['items']).count()\n",
    "it = Sorted.iloc[:, 0:3]\n",
    "plt.hist(Sorted)\n",
    "plt.legend(Sorted.columns)\n",
    "plt.title('Counting items')\n",
    "print(Sorted)\n",
    "print(it)"
   ]
  },
  {
   "cell_type": "code",
   "execution_count": 18,
   "id": "428a0f5f",
   "metadata": {},
   "outputs": [
    {
     "data": {
      "text/plain": [
       "Text(0, 0.5, 'age')"
      ]
     },
     "execution_count": 18,
     "metadata": {},
     "output_type": "execute_result"
    },
    {
     "data": {
      "image/png": "[encoded data removed]",
      "text/plain": [
       "<Figure size 432x288 with 1 Axes>"
      ]
     },
     "metadata": {
      "needs_background": "light"
     },
     "output_type": "display_data"
    }
   ],
   "source": [
    "Sorted = data.sort_values('items', inplace=False)\n",
    "Sorted.drop_duplicates(subset='amount', inplace=True)\n",
    "\n",
    "age = Sorted.groupby(Sorted['age']).count()\n",
    "plt.hist(age)\n",
    "plt.legend(age.columns)\n",
    "plt.title('Counting items')\n",
    "plt.xlabel('Values')\n",
    "plt.ylabel('age')"
   ]
  },
  {
   "cell_type": "markdown",
   "id": "c77988aa",
   "metadata": {},
   "source": [
    "### Check the columns' names"
   ]
  },
  {
   "cell_type": "markdown",
   "id": "a35135f0",
   "metadata": {},
   "source": [
    "### Plotting\n",
    ">  a histogram on the features\n",
    "\n",
    "The goal here is to check the distributions"
   ]
  },
  {
   "cell_type": "code",
   "execution_count": 19,
   "id": "fbe55bf6",
   "metadata": {},
   "outputs": [
    {
     "data": {
      "image/png": "[encoded data removed]",
      "text/plain": [
       "<Figure size 720x720 with 5 Axes>"
      ]
     },
     "metadata": {
      "needs_background": "light"
     },
     "output_type": "display_data"
    }
   ],
   "source": [
    "plt.figure(figsize=(10, 10))\n",
    "for i, j in enumerate(data.columns):\n",
    "    plt.subplot(3, 2, i+1)\n",
    "    plt.hist(Sorted[j], color='teal', histtype='bar')\n",
    "    plt.title(str(data.columns[i]))\n",
    "    plt.ylabel(\"Values\") "
   ]
  },
  {
   "cell_type": "markdown",
   "id": "7191bfb3",
   "metadata": {},
   "source": [
    "**I focused on the amount in the different regions and compared their distributions together**"
   ]
  },
  {
   "cell_type": "code",
   "execution_count": 20,
   "id": "c405e3fd",
   "metadata": {},
   "outputs": [
    {
     "data": {
      "image/png": "[encoded data removed]",
      "text/plain": [
       "<Figure size 720x720 with 5 Axes>"
      ]
     },
     "metadata": {
      "needs_background": "light"
     },
     "output_type": "display_data"
    }
   ],
   "source": [
    "plt.figure(figsize=(10, 10))\n",
    "for i, j in enumerate(data.columns):\n",
    "    n = 'region' + str(i)\n",
    "    n = Sorted[Sorted['region'] == i]\n",
    "    plt.subplot(3, 2, i+1)\n",
    "    plt.hist(n['amount'], color='teal', histtype='bar')\n",
    "    plt.title('Distribution of amout of purchase for region' + str(i))\n",
    "    plt.ylabel(\"Values\") "
   ]
  },
  {
   "cell_type": "code",
   "execution_count": 52,
   "id": "baa3b8fd",
   "metadata": {},
   "outputs": [
    {
     "ename": "SyntaxError",
     "evalue": "positional argument follows keyword argument (<ipython-input-52-8fe2a097554d>, line 4)",
     "output_type": "error",
     "traceback": [
      "\u001b[1;36m  File \u001b[1;32m\"<ipython-input-52-8fe2a097554d>\"\u001b[1;36m, line \u001b[1;32m4\u001b[0m\n\u001b[1;33m    sns.violinplot('amount','items',hue='region', 'age',data=sample,split=True,ax=ax[0])\u001b[0m\n\u001b[1;37m                                                 ^\u001b[0m\n\u001b[1;31mSyntaxError\u001b[0m\u001b[1;31m:\u001b[0m positional argument follows keyword argument\n"
     ]
    }
   ],
   "source": [
    "sample = Sorted.sample(frac=0.005, random_state=Random_seed)\n",
    "print(sample.shape)\n",
    "sample.tail()\n",
    "sns.violinplot('amount','items',hue='region', 'age',data=sample,split=True,ax=ax[0])\n",
    "plt.title('PClass and Age vs Survived')\n",
    "# ax[0].set_yticks(range(0,110,10))\n",
    "\n",
    "plt.show()"
   ]
  },
  {
   "cell_type": "markdown",
   "id": "25f0864f",
   "metadata": {},
   "source": [
    "### Data sampling"
   ]
  },
  {
   "cell_type": "markdown",
   "id": "02f8afea",
   "metadata": {},
   "source": [
    "I generated a random sample from the main dataset to explore the dataset in a small dimension."
   ]
  },
  {
   "cell_type": "code",
   "execution_count": 21,
   "id": "942607df",
   "metadata": {},
   "outputs": [
    {
     "name": "stdout",
     "output_type": "stream",
     "text": [
      "(281, 5)\n"
     ]
    },
    {
     "data": {
      "text/html": [
       "<div>\n",
       "<style scoped>\n",
       "    .dataframe tbody tr th:only-of-type {\n",
       "        vertical-align: middle;\n",
       "    }\n",
       "\n",
       "    .dataframe tbody tr th {\n",
       "        vertical-align: top;\n",
       "    }\n",
       "\n",
       "    .dataframe thead th {\n",
       "        text-align: right;\n",
       "    }\n",
       "</style>\n",
       "<table border=\"1\" class=\"dataframe\">\n",
       "  <thead>\n",
       "    <tr style=\"text-align: right;\">\n",
       "      <th></th>\n",
       "      <th>in-store</th>\n",
       "      <th>age</th>\n",
       "      <th>items</th>\n",
       "      <th>amount</th>\n",
       "      <th>region</th>\n",
       "    </tr>\n",
       "  </thead>\n",
       "  <tbody>\n",
       "    <tr>\n",
       "      <th>1895</th>\n",
       "      <td>1</td>\n",
       "      <td>23</td>\n",
       "      <td>4</td>\n",
       "      <td>952.45</td>\n",
       "      <td>1</td>\n",
       "    </tr>\n",
       "    <tr>\n",
       "      <th>25028</th>\n",
       "      <td>1</td>\n",
       "      <td>55</td>\n",
       "      <td>7</td>\n",
       "      <td>536.14</td>\n",
       "      <td>1</td>\n",
       "    </tr>\n",
       "    <tr>\n",
       "      <th>1362</th>\n",
       "      <td>1</td>\n",
       "      <td>71</td>\n",
       "      <td>5</td>\n",
       "      <td>887.38</td>\n",
       "      <td>1</td>\n",
       "    </tr>\n",
       "    <tr>\n",
       "      <th>51722</th>\n",
       "      <td>1</td>\n",
       "      <td>49</td>\n",
       "      <td>2</td>\n",
       "      <td>244.20</td>\n",
       "      <td>1</td>\n",
       "    </tr>\n",
       "    <tr>\n",
       "      <th>3768</th>\n",
       "      <td>1</td>\n",
       "      <td>28</td>\n",
       "      <td>4</td>\n",
       "      <td>959.30</td>\n",
       "      <td>3</td>\n",
       "    </tr>\n",
       "  </tbody>\n",
       "</table>\n",
       "</div>"
      ],
      "text/plain": [
       "       in-store  age  items  amount  region\n",
       "1895          1   23      4  952.45       1\n",
       "25028         1   55      7  536.14       1\n",
       "1362          1   71      5  887.38       1\n",
       "51722         1   49      2  244.20       1\n",
       "3768          1   28      4  959.30       3"
      ]
     },
     "execution_count": 21,
     "metadata": {},
     "output_type": "execute_result"
    }
   ],
   "source": [
    "sample = Sorted.sample(frac=0.005, random_state=Random_seed)\n",
    "print(sample.shape)\n",
    "sample.tail()"
   ]
  },
  {
   "cell_type": "code",
   "execution_count": 22,
   "id": "5642e689",
   "metadata": {},
   "outputs": [
    {
     "name": "stdout",
     "output_type": "stream",
     "text": [
      "Age sample: 53905    30\n",
      "37370    31\n",
      "28373    33\n",
      "73837    28\n",
      "59887    41\n",
      "         ..\n",
      "1895     23\n",
      "25028    55\n",
      "1362     71\n",
      "51722    49\n",
      "3768     28\n",
      "Name: age, Length: 281, dtype: int64 \n",
      " Amount sample: 53905    299.95\n",
      "37370    992.26\n",
      "28373    462.95\n",
      "73837    222.82\n",
      "59887    882.75\n",
      "          ...  \n",
      "1895     952.45\n",
      "25028    536.14\n",
      "1362     887.38\n",
      "51722    244.20\n",
      "3768     959.30\n",
      "Name: amount, Length: 281, dtype: float64\n"
     ]
    }
   ],
   "source": [
    "X = sample['age']\n",
    "y = sample['amount']\n",
    "print(\"Age sample:\", X, '\\n',\n",
    "      \"Amount sample:\", y)"
   ]
  },
  {
   "cell_type": "markdown",
   "id": "9007d67d",
   "metadata": {},
   "source": [
    "### Comparing \n",
    "> Let's compare the simple samples of two different features of our dataset"
   ]
  },
  {
   "cell_type": "code",
   "execution_count": 23,
   "id": "aecd0dc8",
   "metadata": {},
   "outputs": [
    {
     "data": {
      "image/png": "[encoded data removed]",
      "text/plain": [
       "<Figure size 432x288 with 1 Axes>"
      ]
     },
     "metadata": {
      "needs_background": "light"
     },
     "output_type": "display_data"
    }
   ],
   "source": [
    "plt.scatter(X, y, marker='o', c='lawngreen')\n",
    "plt.title(\"Scatter plot\")\n",
    "plt.xlabel(\"age\")\n",
    "plt.ylabel(\"amount\")\n",
    "plt.show()"
   ]
  },
  {
   "cell_type": "markdown",
   "id": "d3f9e81f",
   "metadata": {},
   "source": [
    "# Scatter"
   ]
  },
  {
   "cell_type": "markdown",
   "id": "9b464896",
   "metadata": {},
   "source": [
    "We have the same scatter as the previous with this difference that I defined a python method here to return the scatter plot for the user."
   ]
  },
  {
   "cell_type": "code",
   "execution_count": 24,
   "id": "b69737d8",
   "metadata": {},
   "outputs": [
    {
     "data": {
      "image/png": "[encoded data removed]",
      "text/plain": [
       "<Figure size 432x288 with 1 Axes>"
      ]
     },
     "metadata": {
      "needs_background": "light"
     },
     "output_type": "display_data"
    }
   ],
   "source": [
    "X = sample['region']\n",
    "y = sample['amount']\n",
    "\n",
    "def sct(X, y, Xlabel=None, ylabel=None):\n",
    "    plt.scatter(X, y, marker='o', c='lawngreen')\n",
    "    plt.title(\"Scatter plot\")\n",
    "    plt.xlabel(Xlabel)\n",
    "    plt.ylabel(ylabel)\n",
    "    return plt.show()\n",
    "sct(X, y, 'age', 'amount')"
   ]
  },
  {
   "cell_type": "code",
   "execution_count": 44,
   "id": "7c8d784c",
   "metadata": {},
   "outputs": [
    {
     "data": {
      "image/png": "[encoded data removed]",
      "text/plain": [
       "<Figure size 432x288 with 1 Axes>"
      ]
     },
     "metadata": {
      "needs_background": "light"
     },
     "output_type": "display_data"
    }
   ],
   "source": [
    "X = sample['items']\n",
    "y = sample['amount']\n",
    "sct(X, y, 'items', 'amount')"
   ]
  },
  {
   "cell_type": "markdown",
   "id": "183f0d62",
   "metadata": {},
   "source": [
    "### feature dentification "
   ]
  },
  {
   "cell_type": "markdown",
   "id": "ca29370c",
   "metadata": {},
   "source": [
    "Instead of printing plots one-by-one, we can print them out in one loop in the range of features of the dataset."
   ]
  },
  {
   "cell_type": "code",
   "execution_count": 26,
   "id": "c395ff65",
   "metadata": {},
   "outputs": [
    {
     "data": {
      "image/png": "[encoded data removed]",
      "text/plain": [
       "<Figure size 720x1080 with 5 Axes>"
      ]
     },
     "metadata": {
      "needs_background": "light"
     },
     "output_type": "display_data"
    }
   ],
   "source": [
    "plt.figure(figsize=(10, 15))\n",
    "for i, j in enumerate(data.columns):\n",
    "    plt.subplot(3, 2, i+1)\n",
    "    plt.boxplot(Sorted[j], 0, 'gD', showmeans=True,\n",
    "                meanline=True, autorange=True)\n",
    "    plt.title('Box plt - ' + str(data.columns[i]))"
   ]
  },
  {
   "cell_type": "markdown",
   "id": "a3144390",
   "metadata": {},
   "source": [
    "# Outlier treatment"
   ]
  },
  {
   "cell_type": "markdown",
   "id": "bae42542",
   "metadata": {},
   "source": [
    "As we can see in the amount, we have outliers values.\n",
    "\n",
    "After seeing the box plot, I curious about the \"amount\" feature, so I decided to have a subsample of it and compare it with its median. "
   ]
  },
  {
   "cell_type": "code",
   "execution_count": 27,
   "id": "10724464",
   "metadata": {},
   "outputs": [
    {
     "name": "stdout",
     "output_type": "stream",
     "text": [
      "outliers indes: (array([    9,    16,    25, ..., 56088, 56094, 56102], dtype=int64),)\n"
     ]
    },
    {
     "data": {
      "text/plain": [
       "(56112,)"
      ]
     },
     "execution_count": 27,
     "metadata": {},
     "output_type": "execute_result"
    }
   ],
   "source": [
    "outliers = np.where(Sorted['amount']>2000)\n",
    "print('outliers indes:', outliers)\n",
    "(Sorted['amount']>2000).shape"
   ]
  },
  {
   "cell_type": "code",
   "execution_count": 28,
   "id": "503cbf49",
   "metadata": {},
   "outputs": [
    {
     "data": {
      "image/png": "[encoded data removed]",
      "text/plain": [
       "<Figure size 432x288 with 1 Axes>"
      ]
     },
     "metadata": {
      "needs_background": "light"
     },
     "output_type": "display_data"
    }
   ],
   "source": [
    "sct(Sorted['region'], Sorted['amount'], 'region', 'amount')"
   ]
  },
  {
   "cell_type": "code",
   "execution_count": 46,
   "id": "0e55c1c2",
   "metadata": {},
   "outputs": [
    {
     "data": {
      "text/plain": [
       "Text(0.5, 1.0, 'Checking amount outliers')"
      ]
     },
     "execution_count": 46,
     "metadata": {},
     "output_type": "execute_result"
    },
    {
     "data": {
      "image/png": "[encoded data removed]",
      "text/plain": [
       "<Figure size 432x288 with 1 Axes>"
      ]
     },
     "metadata": {
      "needs_background": "light"
     },
     "output_type": "display_data"
    }
   ],
   "source": [
    "amount = (sample.amount).values\n",
    "m = []\n",
    "for i in range(amount.shape[0]):\n",
    "    m.append(np.mean(amount))\n",
    "plt.plot(amount, label='Amount of purchase')\n",
    "plt.plot(m, linewidth=3, color='r', label='Median')\n",
    "plt.legend()\n",
    "plt.title(\"Checking amount outliers\")"
   ]
  },
  {
   "cell_type": "markdown",
   "id": "11d822ea",
   "metadata": {},
   "source": [
    "I considered sample data to visualize them better."
   ]
  },
  {
   "cell_type": "code",
   "execution_count": 30,
   "id": "e3a9da1d",
   "metadata": {},
   "outputs": [
    {
     "data": {
      "text/plain": [
       "Text(0.5, 1.0, 'Distance of the amount value from the mean')"
      ]
     },
     "execution_count": 30,
     "metadata": {},
     "output_type": "execute_result"
    },
    {
     "data": {
      "image/png": "[encoded data removed]",
      "text/plain": [
       "<Figure size 432x288 with 1 Axes>"
      ]
     },
     "metadata": {
      "needs_background": "light"
     },
     "output_type": "display_data"
    }
   ],
   "source": [
    "z = np.abs(stats.zscore(amount))\n",
    "plt.plot(z, c='g', alpha=0.3)\n",
    "plt.ylabel('Distance')\n",
    "plt.xlabel('index')\n",
    "plt.title('Distance of the amount value from the mean')"
   ]
  },
  {
   "cell_type": "markdown",
   "id": "214751a5",
   "metadata": {},
   "source": [
    "#### Defining the bounds to remove the outliers"
   ]
  },
  {
   "cell_type": "code",
   "execution_count": 31,
   "id": "5156a50a",
   "metadata": {},
   "outputs": [
    {
     "name": "stdout",
     "output_type": "stream",
     "text": [
      "(238, 1)\n"
     ]
    },
    {
     "data": {
      "text/html": [
       "<div>\n",
       "<style scoped>\n",
       "    .dataframe tbody tr th:only-of-type {\n",
       "        vertical-align: middle;\n",
       "    }\n",
       "\n",
       "    .dataframe tbody tr th {\n",
       "        vertical-align: top;\n",
       "    }\n",
       "\n",
       "    .dataframe thead th {\n",
       "        text-align: right;\n",
       "    }\n",
       "</style>\n",
       "<table border=\"1\" class=\"dataframe\">\n",
       "  <thead>\n",
       "    <tr style=\"text-align: right;\">\n",
       "      <th></th>\n",
       "      <th>0</th>\n",
       "    </tr>\n",
       "  </thead>\n",
       "  <tbody>\n",
       "    <tr>\n",
       "      <th>0</th>\n",
       "      <td>299.95</td>\n",
       "    </tr>\n",
       "    <tr>\n",
       "      <th>1</th>\n",
       "      <td>992.26</td>\n",
       "    </tr>\n",
       "    <tr>\n",
       "      <th>2</th>\n",
       "      <td>462.95</td>\n",
       "    </tr>\n",
       "    <tr>\n",
       "      <th>3</th>\n",
       "      <td>222.82</td>\n",
       "    </tr>\n",
       "    <tr>\n",
       "      <th>4</th>\n",
       "      <td>882.75</td>\n",
       "    </tr>\n",
       "  </tbody>\n",
       "</table>\n",
       "</div>"
      ],
      "text/plain": [
       "        0\n",
       "0  299.95\n",
       "1  992.26\n",
       "2  462.95\n",
       "3  222.82\n",
       "4  882.75"
      ]
     },
     "execution_count": 31,
     "metadata": {},
     "output_type": "execute_result"
    }
   ],
   "source": [
    "\n",
    "Q1 = np.percentile(amount, 25, interpolation='midpoint')\n",
    "Q3 = np.percentile(amount, 65, interpolation='midpoint')\n",
    "IQR = Q3 - Q1\n",
    "amount.shape\n",
    "upper = np.where(amount>=(Q3+1.5*IQR))\n",
    "lower = np.where(amount<=(Q1-1.5*IQR))\n",
    "new = pd.DataFrame(amount)\n",
    "new.drop(upper[0], inplace=True)\n",
    "new.drop(lower[0], inplace=True)\n",
    "print(new.shape)\n",
    "new.head()"
   ]
  },
  {
   "cell_type": "code",
   "execution_count": 32,
   "id": "ee357bc6",
   "metadata": {},
   "outputs": [
    {
     "data": {
      "text/plain": [
       "Text(0.5, 1.0, 'Comparing the amount with and without outliers')"
      ]
     },
     "execution_count": 32,
     "metadata": {},
     "output_type": "execute_result"
    },
    {
     "data": {
      "image/png": "[encoded data removed]",
      "text/plain": [
       "<Figure size 432x288 with 1 Axes>"
      ]
     },
     "metadata": {
      "needs_background": "light"
     },
     "output_type": "display_data"
    }
   ],
   "source": [
    "plt.plot(amount, label='Amount of purchase')\n",
    "plt.plot(new, label='Clean amount', c='g', alpha=0.7)\n",
    "plt.plot(m, linewidth=3, color='r', label='Median')\n",
    "plt.legend()\n",
    "plt.title(\"Comparing the amount with and without outliers\")"
   ]
  },
  {
   "cell_type": "code",
   "execution_count": 33,
   "id": "33e073d8",
   "metadata": {},
   "outputs": [
    {
     "data": {
      "text/plain": [
       "Text(0.5, 1.0, 'Real values of amount')"
      ]
     },
     "execution_count": 33,
     "metadata": {},
     "output_type": "execute_result"
    },
    {
     "data": {
      "image/png": "[encoded data removed]",
      "text/plain": [
       "<Figure size 720x720 with 2 Axes>"
      ]
     },
     "metadata": {
      "needs_background": "light"
     },
     "output_type": "display_data"
    }
   ],
   "source": [
    "plt.figure(figsize=(10,10))\n",
    "plt.subplot(2,2,1)\n",
    "plt.boxplot(new, 0, 'gD', showmeans=True,\n",
    "                meanline=True, autorange=True)\n",
    "plt.title('Cleaned amount without outliers')\n",
    "plt.subplot(2,2,2)\n",
    "plt.boxplot(amount, 0, 'gD', showmeans=True,\n",
    "                meanline=True, autorange=True)\n",
    "plt.title('Real values of amount')"
   ]
  },
  {
   "cell_type": "markdown",
   "id": "f2faf11c",
   "metadata": {},
   "source": [
    "### Check the Correlation"
   ]
  },
  {
   "cell_type": "markdown",
   "id": "59eb9c2d",
   "metadata": {},
   "source": [
    "I chose the pearson method to return the Correlation Coefficient matrix"
   ]
  },
  {
   "cell_type": "code",
   "execution_count": 34,
   "id": "560f3810",
   "metadata": {},
   "outputs": [
    {
     "data": {
      "text/html": [
       "<div>\n",
       "<style scoped>\n",
       "    .dataframe tbody tr th:only-of-type {\n",
       "        vertical-align: middle;\n",
       "    }\n",
       "\n",
       "    .dataframe tbody tr th {\n",
       "        vertical-align: top;\n",
       "    }\n",
       "\n",
       "    .dataframe thead th {\n",
       "        text-align: right;\n",
       "    }\n",
       "</style>\n",
       "<table border=\"1\" class=\"dataframe\">\n",
       "  <thead>\n",
       "    <tr style=\"text-align: right;\">\n",
       "      <th></th>\n",
       "      <th>in-store</th>\n",
       "      <th>age</th>\n",
       "      <th>items</th>\n",
       "      <th>amount</th>\n",
       "      <th>region</th>\n",
       "    </tr>\n",
       "  </thead>\n",
       "  <tbody>\n",
       "    <tr>\n",
       "      <th>in-store</th>\n",
       "      <td>1.000000</td>\n",
       "      <td>-0.173391</td>\n",
       "      <td>0.000484</td>\n",
       "      <td>-0.098819</td>\n",
       "      <td>-0.128630</td>\n",
       "    </tr>\n",
       "    <tr>\n",
       "      <th>age</th>\n",
       "      <td>-0.173391</td>\n",
       "      <td>1.000000</td>\n",
       "      <td>0.020355</td>\n",
       "      <td>-0.264400</td>\n",
       "      <td>-0.236675</td>\n",
       "    </tr>\n",
       "    <tr>\n",
       "      <th>items</th>\n",
       "      <td>0.000484</td>\n",
       "      <td>0.020355</td>\n",
       "      <td>1.000000</td>\n",
       "      <td>-0.049926</td>\n",
       "      <td>-0.026931</td>\n",
       "    </tr>\n",
       "    <tr>\n",
       "      <th>amount</th>\n",
       "      <td>-0.098819</td>\n",
       "      <td>-0.264400</td>\n",
       "      <td>-0.049926</td>\n",
       "      <td>1.000000</td>\n",
       "      <td>0.401362</td>\n",
       "    </tr>\n",
       "    <tr>\n",
       "      <th>region</th>\n",
       "      <td>-0.128630</td>\n",
       "      <td>-0.236675</td>\n",
       "      <td>-0.026931</td>\n",
       "      <td>0.401362</td>\n",
       "      <td>1.000000</td>\n",
       "    </tr>\n",
       "  </tbody>\n",
       "</table>\n",
       "</div>"
      ],
      "text/plain": [
       "          in-store       age     items    amount    region\n",
       "in-store  1.000000 -0.173391  0.000484 -0.098819 -0.128630\n",
       "age      -0.173391  1.000000  0.020355 -0.264400 -0.236675\n",
       "items     0.000484  0.020355  1.000000 -0.049926 -0.026931\n",
       "amount   -0.098819 -0.264400 -0.049926  1.000000  0.401362\n",
       "region   -0.128630 -0.236675 -0.026931  0.401362  1.000000"
      ]
     },
     "execution_count": 34,
     "metadata": {},
     "output_type": "execute_result"
    }
   ],
   "source": [
    "Sorted.corr(\"pearson\")"
   ]
  },
  {
   "cell_type": "markdown",
   "id": "a0545057",
   "metadata": {},
   "source": [
    "#### Visualize the correlation"
   ]
  },
  {
   "cell_type": "markdown",
   "id": "1c6de874",
   "metadata": {},
   "source": [
    "As we only have four attributes, it is easier to check the correlation over a heatmap"
   ]
  },
  {
   "cell_type": "code",
   "execution_count": 35,
   "id": "df453243",
   "metadata": {},
   "outputs": [
    {
     "data": {
      "text/plain": [
       "<AxesSubplot:>"
      ]
     },
     "execution_count": 35,
     "metadata": {},
     "output_type": "execute_result"
    },
    {
     "data": {
      "image/png": "[encoded data removed]",
      "text/plain": [
       "<Figure size 432x288 with 2 Axes>"
      ]
     },
     "metadata": {
      "needs_background": "light"
     },
     "output_type": "display_data"
    }
   ],
   "source": [
    "sns.heatmap(data.corr(\"pearson\"), annot=True, cmap='GnBu')"
   ]
  },
  {
   "cell_type": "markdown",
   "id": "368e255a",
   "metadata": {},
   "source": [
    " ## Joint variability"
   ]
  },
  {
   "cell_type": "markdown",
   "id": "494279e3",
   "metadata": {},
   "source": [
    "### Measure of the joint variability by using the Covariance"
   ]
  },
  {
   "cell_type": "code",
   "execution_count": 36,
   "id": "cb879e1c",
   "metadata": {},
   "outputs": [
    {
     "data": {
      "text/html": [
       "<div>\n",
       "<style scoped>\n",
       "    .dataframe tbody tr th:only-of-type {\n",
       "        vertical-align: middle;\n",
       "    }\n",
       "\n",
       "    .dataframe tbody tr th {\n",
       "        vertical-align: top;\n",
       "    }\n",
       "\n",
       "    .dataframe thead th {\n",
       "        text-align: right;\n",
       "    }\n",
       "</style>\n",
       "<table border=\"1\" class=\"dataframe\">\n",
       "  <thead>\n",
       "    <tr style=\"text-align: right;\">\n",
       "      <th></th>\n",
       "      <th>in-store</th>\n",
       "      <th>age</th>\n",
       "      <th>items</th>\n",
       "      <th>amount</th>\n",
       "      <th>region</th>\n",
       "    </tr>\n",
       "  </thead>\n",
       "  <tbody>\n",
       "    <tr>\n",
       "      <th>in-store</th>\n",
       "      <td>0.250004</td>\n",
       "      <td>-1.369582</td>\n",
       "      <td>0.000494</td>\n",
       "      <td>-35.156382</td>\n",
       "      <td>-0.071371</td>\n",
       "    </tr>\n",
       "    <tr>\n",
       "      <th>age</th>\n",
       "      <td>-1.369582</td>\n",
       "      <td>249.559687</td>\n",
       "      <td>0.657035</td>\n",
       "      <td>-2971.926174</td>\n",
       "      <td>-4.148984</td>\n",
       "    </tr>\n",
       "    <tr>\n",
       "      <th>items</th>\n",
       "      <td>0.000494</td>\n",
       "      <td>0.657035</td>\n",
       "      <td>4.174876</td>\n",
       "      <td>-72.583476</td>\n",
       "      <td>-0.061063</td>\n",
       "    </tr>\n",
       "    <tr>\n",
       "      <th>amount</th>\n",
       "      <td>-35.156382</td>\n",
       "      <td>-2971.926174</td>\n",
       "      <td>-72.583476</td>\n",
       "      <td>506267.533327</td>\n",
       "      <td>316.904792</td>\n",
       "    </tr>\n",
       "    <tr>\n",
       "      <th>region</th>\n",
       "      <td>-0.071371</td>\n",
       "      <td>-4.148984</td>\n",
       "      <td>-0.061063</td>\n",
       "      <td>316.904792</td>\n",
       "      <td>1.231419</td>\n",
       "    </tr>\n",
       "  </tbody>\n",
       "</table>\n",
       "</div>"
      ],
      "text/plain": [
       "           in-store          age      items         amount      region\n",
       "in-store   0.250004    -1.369582   0.000494     -35.156382   -0.071371\n",
       "age       -1.369582   249.559687   0.657035   -2971.926174   -4.148984\n",
       "items      0.000494     0.657035   4.174876     -72.583476   -0.061063\n",
       "amount   -35.156382 -2971.926174 -72.583476  506267.533327  316.904792\n",
       "region    -0.071371    -4.148984  -0.061063     316.904792    1.231419"
      ]
     },
     "execution_count": 36,
     "metadata": {},
     "output_type": "execute_result"
    }
   ],
   "source": [
    "Sorted.cov()"
   ]
  },
  {
   "cell_type": "code",
   "execution_count": 36,
   "id": "c36b03f4",
   "metadata": {},
   "outputs": [
    {
     "data": {
      "text/plain": [
       "<AxesSubplot:>"
      ]
     },
     "execution_count": 36,
     "metadata": {},
     "output_type": "execute_result"
    },
    {
     "data": {
      "image/png": "[encoded data removed]",
      "text/plain": [
       "<Figure size 432x288 with 2 Axes>"
      ]
     },
     "metadata": {
      "needs_background": "light"
     },
     "output_type": "display_data"
    }
   ],
   "source": [
    "sns.heatmap(Sorted.cov(), annot=True)"
   ]
  },
  {
   "cell_type": "markdown",
   "id": "4a3c8c16",
   "metadata": {},
   "source": [
    "# Conclusion"
   ]
  },
  {
   "cell_type": "markdown",
   "id": "76f20141",
   "metadata": {},
   "source": [
    "I imported the libraries which were useful to my proposal of EDA the dataset. After entering the dataset, and have an overview of the data frame, I looked for missing values and I did not find any.\n",
    "\n",
    "To have a summary of our features, I grouped the dataset into different parts and studied them separately. My studies included sorting, histogram, scatter plots, box plots, data frame, correlations, covariance size of the data, and shape of the arrays.\n",
    "\n",
    "From the previous studies, I found that we have duplicate values in one of our features which were \"amount\" so I removed them and continue with the new dataset.\n",
    "\n",
    "Also, from different plots such as the box plot, I noted the outliers values, So I defined the various percentile of the relevant axis to drop them. After removing outliers, I compared the shape, size, and behavior of the removed outliers and the principal dataset.\n",
    "\n",
    "Regarding the questions and hypothesizes, I should say that;\n",
    "-\tI found a relationship and correlation between different features of the dataset.\n",
    "-\tThere were duplicate values in the dataset.\n",
    "- Customers in regions one and four, spent more money to buy their items. And region two has the lowers amount of purchase.\n",
    "-\tYes, there is a relationship between number of items purchased and amount spent."
   ]
  },
  {
   "cell_type": "code",
   "execution_count": null,
   "id": "a9453739",
   "metadata": {},
   "outputs": [],
   "source": []
  }
 ],
 "metadata": {
  "kernelspec": {
   "display_name": "Python 3",
   "language": "python",
   "name": "python3"
  },
  "language_info": {
   "codemirror_mode": {
    "name": "ipython",
    "version": 3
   },
   "file_extension": ".py",
   "mimetype": "text/x-python",
   "name": "python",
   "nbconvert_exporter": "python",
   "pygments_lexer": "ipython3",
   "version": "3.7.9"
  }
 },
 "nbformat": 4,
 "nbformat_minor": 5
}
