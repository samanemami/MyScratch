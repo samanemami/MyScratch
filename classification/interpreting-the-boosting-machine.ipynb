{
 "cells": [
  {
   "cell_type": "markdown",
   "id": "ef29ac76",
   "metadata": {
    "papermill": {
     "duration": 0.010238,
     "end_time": "2022-06-28T22:13:33.940635",
     "exception": false,
     "start_time": "2022-06-28T22:13:33.930397",
     "status": "completed"
    },
    "tags": []
   },
   "source": [
    "<a id='Contents'></a>\n",
    "\n",
    "# Table of Contents\n",
    "\n",
    "* [About the Notebook](#About)\n",
    "* [Importing libraries](#lib)\n",
    "* [Importing dataset](#dt)\n",
    "    * [Feature engineering](#Missing)\n",
    "    * [Describe the dataframe](#Describe)\n",
    "    * [Model input](#Input)\n",
    "* [Gradient Boosting Classifier](#Gradient)\n",
    "* [Analyzing the Gradient Model](#AnalyzingtheGradientModel)\n",
    "    * [Plot tree](#plot_tree)\n",
    "    * [Terminal Leaves](#terminal_leaves_def)\n",
    "        * [B-spline function](#B-spline)\n",
    "    * [Decision Boundaries](#Decision_Boundaries_def)\n",
    "        * [Regression Decision Boundaries](#Decision_Boundaries_reg)\n",
    "        * [Classification Decision Boundaries](#Decision_Boundaries_clf)\n",
    "* [Conclusion](#Conclusion)"
   ]
  },
  {
   "cell_type": "markdown",
   "id": "9e7af9f3",
   "metadata": {
    "papermill": {
     "duration": 0.009301,
     "end_time": "2022-06-28T22:13:33.959019",
     "exception": false,
     "start_time": "2022-06-28T22:13:33.949718",
     "status": "completed"
    },
    "tags": []
   },
   "source": [
    "<a id='About'></a>\n",
    "# About the Notebook\n",
    "[Table of Contents](#Contents)\n",
    "\n",
    "The focus of this study is to introduce different analysis aspects of the Gradient Boosting Models. As in many studies and literature, the goal is the final accuracy of the model or the classification precision, I tried to prepare different analyses in this work. \n",
    "\n",
    "The following experiments are reviewed as the Boosting metrics\n",
    "\n",
    "* Plotting the Decision tree\n",
    "* The values of the terminal region\n",
    "* Computing the interpolating B-spline.\n",
    "* Decision boundaries\n",
    "\n",
    "Of course, each part has its own interpretation and strategy for the implementation. Check each cell for its details.\n",
    "\n",
    "Author: [Seyedsaman Emami](https://samanemami.github.io/)"
   ]
  },
  {
   "cell_type": "markdown",
   "id": "89bff41d",
   "metadata": {
    "_kg_hide-input": true,
    "papermill": {
     "duration": 0.009095,
     "end_time": "2022-06-28T22:13:33.995172",
     "exception": false,
     "start_time": "2022-06-28T22:13:33.986077",
     "status": "completed"
    },
    "tags": []
   },
   "source": [
    "<a id='lib'></a>\n",
    "# Importing libraries\n",
    "[Table of Contents](#Contents)\n",
    "\n",
    "---\n",
    "\n",
    "Author: [Seyedsaman Emami](https://samanemami.github.io/)"
   ]
  },
  {
   "cell_type": "code",
   "execution_count": 1,
   "id": "9fa4f718",
   "metadata": {
    "_kg_hide-input": true,
    "execution": {
     "iopub.execute_input": "2022-06-28T22:13:34.015573Z",
     "iopub.status.busy": "2022-06-28T22:13:34.014883Z",
     "iopub.status.idle": "2022-06-28T22:13:35.746993Z",
     "shell.execute_reply": "2022-06-28T22:13:35.745445Z"
    },
    "papermill": {
     "duration": 1.74592,
     "end_time": "2022-06-28T22:13:35.750180",
     "exception": false,
     "start_time": "2022-06-28T22:13:34.004260",
     "status": "completed"
    },
    "tags": []
   },
   "outputs": [],
   "source": [
    "import os\n",
    "import warnings\n",
    "import numpy as np\n",
    "import pandas as pd\n",
    "import seaborn as sns\n",
    "from scipy.io import arff\n",
    "import matplotlib.pyplot as plt\n",
    "from sklearn.tree import plot_tree\n",
    "from scipy.special import logsumexp\n",
    "from sklearn.preprocessing import LabelEncoder\n",
    "from scipy.interpolate import make_interp_spline\n",
    "from sklearn.ensemble import GradientBoostingClassifier"
   ]
  },
  {
   "cell_type": "code",
   "execution_count": 2,
   "id": "49725de8",
   "metadata": {
    "_kg_hide-input": true,
    "execution": {
     "iopub.execute_input": "2022-06-28T22:13:35.771235Z",
     "iopub.status.busy": "2022-06-28T22:13:35.770457Z",
     "iopub.status.idle": "2022-06-28T22:13:35.776400Z",
     "shell.execute_reply": "2022-06-28T22:13:35.775604Z"
    },
    "papermill": {
     "duration": 0.019064,
     "end_time": "2022-06-28T22:13:35.778550",
     "exception": false,
     "start_time": "2022-06-28T22:13:35.759486",
     "status": "completed"
    },
    "tags": []
   },
   "outputs": [],
   "source": [
    "import warnings\n",
    "random_state = 123\n",
    "np.random.seed(random_state)\n",
    "\n",
    "warnings.simplefilter('ignore')\n",
    "\n",
    "np.set_printoptions(precision=4, suppress=True)\n",
    "\n",
    "sns.set_theme()"
   ]
  },
  {
   "cell_type": "code",
   "execution_count": 3,
   "id": "8debb73c",
   "metadata": {
    "_kg_hide-input": true,
    "execution": {
     "iopub.execute_input": "2022-06-28T22:13:35.800614Z",
     "iopub.status.busy": "2022-06-28T22:13:35.799896Z",
     "iopub.status.idle": "2022-06-28T22:13:35.805008Z",
     "shell.execute_reply": "2022-06-28T22:13:35.804147Z"
    },
    "papermill": {
     "duration": 0.018461,
     "end_time": "2022-06-28T22:13:35.807341",
     "exception": false,
     "start_time": "2022-06-28T22:13:35.788880",
     "status": "completed"
    },
    "tags": []
   },
   "outputs": [],
   "source": [
    "def make_pretty(styler):\n",
    "    styler.set_caption(\"Weather Conditions\")\n",
    "    styler.background_gradient(axis=None, vmin=1, vmax=5, cmap=\"YlGnBu\")\n",
    "    return styler"
   ]
  },
  {
   "cell_type": "markdown",
   "id": "361a9cac",
   "metadata": {
    "papermill": {
     "duration": 0.009216,
     "end_time": "2022-06-28T22:13:35.825880",
     "exception": false,
     "start_time": "2022-06-28T22:13:35.816664",
     "status": "completed"
    },
    "tags": []
   },
   "source": [
    "<a id='dt'></a>\n",
    "# Importing dataset\n",
    "[Table of Contents](#Contents)\n",
    "\n",
    "The `RiverFlow-2` Dataset has 9125 instances and 576 features with eight continuous targets."
   ]
  },
  {
   "cell_type": "code",
   "execution_count": 4,
   "id": "1a7722cd",
   "metadata": {
    "execution": {
     "iopub.execute_input": "2022-06-28T22:13:35.846934Z",
     "iopub.status.busy": "2022-06-28T22:13:35.846291Z",
     "iopub.status.idle": "2022-06-28T22:13:35.956109Z",
     "shell.execute_reply": "2022-06-28T22:13:35.954967Z"
    },
    "papermill": {
     "duration": 0.123398,
     "end_time": "2022-06-28T22:13:35.958780",
     "exception": false,
     "start_time": "2022-06-28T22:13:35.835382",
     "status": "completed"
    },
    "tags": []
   },
   "outputs": [
    {
     "data": {
      "text/html": [
       "<style type=\"text/css\">\n",
       "#T_f373d_row0_col0, #T_f373d_row0_col4, #T_f373d_row1_col4, #T_f373d_row2_col4, #T_f373d_row3_col4, #T_f373d_row4_col4 {\n",
       "  background-color: #ffffd9;\n",
       "  color: #000000;\n",
       "}\n",
       "#T_f373d_row0_col1, #T_f373d_row4_col0, #T_f373d_row4_col1 {\n",
       "  background-color: #081d58;\n",
       "  color: #f1f1f1;\n",
       "}\n",
       "#T_f373d_row0_col2 {\n",
       "  background-color: #1d90c0;\n",
       "  color: #f1f1f1;\n",
       "}\n",
       "#T_f373d_row0_col3, #T_f373d_row1_col3, #T_f373d_row4_col3 {\n",
       "  background-color: #f1faba;\n",
       "  color: #000000;\n",
       "}\n",
       "#T_f373d_row1_col0 {\n",
       "  background-color: #c6e9b4;\n",
       "  color: #000000;\n",
       "}\n",
       "#T_f373d_row1_col1 {\n",
       "  background-color: #0d2163;\n",
       "  color: #f1f1f1;\n",
       "}\n",
       "#T_f373d_row1_col2, #T_f373d_row2_col0 {\n",
       "  background-color: #40b5c4;\n",
       "  color: #f1f1f1;\n",
       "}\n",
       "#T_f373d_row2_col1 {\n",
       "  background-color: #192b7c;\n",
       "  color: #f1f1f1;\n",
       "}\n",
       "#T_f373d_row2_col2 {\n",
       "  background-color: #33a7c2;\n",
       "  color: #f1f1f1;\n",
       "}\n",
       "#T_f373d_row2_col3 {\n",
       "  background-color: #f4fbc1;\n",
       "  color: #000000;\n",
       "}\n",
       "#T_f373d_row3_col0 {\n",
       "  background-color: #225da8;\n",
       "  color: #f1f1f1;\n",
       "}\n",
       "#T_f373d_row3_col1 {\n",
       "  background-color: #1f2f87;\n",
       "  color: #f1f1f1;\n",
       "}\n",
       "#T_f373d_row3_col2 {\n",
       "  background-color: #3aaec3;\n",
       "  color: #f1f1f1;\n",
       "}\n",
       "#T_f373d_row3_col3 {\n",
       "  background-color: #edf8b1;\n",
       "  color: #000000;\n",
       "}\n",
       "#T_f373d_row4_col2 {\n",
       "  background-color: #1e86bb;\n",
       "  color: #f1f1f1;\n",
       "}\n",
       "</style>\n",
       "<table id=\"T_f373d_\">\n",
       "  <caption>Weather Conditions</caption>\n",
       "  <thead>\n",
       "    <tr>\n",
       "      <th class=\"blank level0\" >&nbsp;</th>\n",
       "      <th class=\"col_heading level0 col0\" >Id</th>\n",
       "      <th class=\"col_heading level0 col1\" >SepalLengthCm</th>\n",
       "      <th class=\"col_heading level0 col2\" >SepalWidthCm</th>\n",
       "      <th class=\"col_heading level0 col3\" >PetalLengthCm</th>\n",
       "      <th class=\"col_heading level0 col4\" >PetalWidthCm</th>\n",
       "      <th class=\"col_heading level0 col5\" >Species</th>\n",
       "    </tr>\n",
       "  </thead>\n",
       "  <tbody>\n",
       "    <tr>\n",
       "      <th id=\"T_f373d_level0_row0\" class=\"row_heading level0 row0\" >0</th>\n",
       "      <td id=\"T_f373d_row0_col0\" class=\"data row0 col0\" >1</td>\n",
       "      <td id=\"T_f373d_row0_col1\" class=\"data row0 col1\" >5.100000</td>\n",
       "      <td id=\"T_f373d_row0_col2\" class=\"data row0 col2\" >3.500000</td>\n",
       "      <td id=\"T_f373d_row0_col3\" class=\"data row0 col3\" >1.400000</td>\n",
       "      <td id=\"T_f373d_row0_col4\" class=\"data row0 col4\" >0.200000</td>\n",
       "      <td id=\"T_f373d_row0_col5\" class=\"data row0 col5\" >Iris-setosa</td>\n",
       "    </tr>\n",
       "    <tr>\n",
       "      <th id=\"T_f373d_level0_row1\" class=\"row_heading level0 row1\" >1</th>\n",
       "      <td id=\"T_f373d_row1_col0\" class=\"data row1 col0\" >2</td>\n",
       "      <td id=\"T_f373d_row1_col1\" class=\"data row1 col1\" >4.900000</td>\n",
       "      <td id=\"T_f373d_row1_col2\" class=\"data row1 col2\" >3.000000</td>\n",
       "      <td id=\"T_f373d_row1_col3\" class=\"data row1 col3\" >1.400000</td>\n",
       "      <td id=\"T_f373d_row1_col4\" class=\"data row1 col4\" >0.200000</td>\n",
       "      <td id=\"T_f373d_row1_col5\" class=\"data row1 col5\" >Iris-setosa</td>\n",
       "    </tr>\n",
       "    <tr>\n",
       "      <th id=\"T_f373d_level0_row2\" class=\"row_heading level0 row2\" >2</th>\n",
       "      <td id=\"T_f373d_row2_col0\" class=\"data row2 col0\" >3</td>\n",
       "      <td id=\"T_f373d_row2_col1\" class=\"data row2 col1\" >4.700000</td>\n",
       "      <td id=\"T_f373d_row2_col2\" class=\"data row2 col2\" >3.200000</td>\n",
       "      <td id=\"T_f373d_row2_col3\" class=\"data row2 col3\" >1.300000</td>\n",
       "      <td id=\"T_f373d_row2_col4\" class=\"data row2 col4\" >0.200000</td>\n",
       "      <td id=\"T_f373d_row2_col5\" class=\"data row2 col5\" >Iris-setosa</td>\n",
       "    </tr>\n",
       "    <tr>\n",
       "      <th id=\"T_f373d_level0_row3\" class=\"row_heading level0 row3\" >3</th>\n",
       "      <td id=\"T_f373d_row3_col0\" class=\"data row3 col0\" >4</td>\n",
       "      <td id=\"T_f373d_row3_col1\" class=\"data row3 col1\" >4.600000</td>\n",
       "      <td id=\"T_f373d_row3_col2\" class=\"data row3 col2\" >3.100000</td>\n",
       "      <td id=\"T_f373d_row3_col3\" class=\"data row3 col3\" >1.500000</td>\n",
       "      <td id=\"T_f373d_row3_col4\" class=\"data row3 col4\" >0.200000</td>\n",
       "      <td id=\"T_f373d_row3_col5\" class=\"data row3 col5\" >Iris-setosa</td>\n",
       "    </tr>\n",
       "    <tr>\n",
       "      <th id=\"T_f373d_level0_row4\" class=\"row_heading level0 row4\" >4</th>\n",
       "      <td id=\"T_f373d_row4_col0\" class=\"data row4 col0\" >5</td>\n",
       "      <td id=\"T_f373d_row4_col1\" class=\"data row4 col1\" >5.000000</td>\n",
       "      <td id=\"T_f373d_row4_col2\" class=\"data row4 col2\" >3.600000</td>\n",
       "      <td id=\"T_f373d_row4_col3\" class=\"data row4 col3\" >1.400000</td>\n",
       "      <td id=\"T_f373d_row4_col4\" class=\"data row4 col4\" >0.200000</td>\n",
       "      <td id=\"T_f373d_row4_col5\" class=\"data row4 col5\" >Iris-setosa</td>\n",
       "    </tr>\n",
       "  </tbody>\n",
       "</table>\n"
      ],
      "text/plain": [
       "<pandas.io.formats.style.Styler at 0x7f5613cb2e90>"
      ]
     },
     "execution_count": 4,
     "metadata": {},
     "output_type": "execute_result"
    }
   ],
   "source": [
    "df = pd.read_csv('../input/iris/Iris.csv')\n",
    "df.head().style.pipe(make_pretty)"
   ]
  },
  {
   "cell_type": "markdown",
   "id": "f23d5167",
   "metadata": {
    "_kg_hide-input": true,
    "papermill": {
     "duration": 0.009445,
     "end_time": "2022-06-28T22:13:35.978209",
     "exception": false,
     "start_time": "2022-06-28T22:13:35.968764",
     "status": "completed"
    },
    "tags": []
   },
   "source": [
    "<a id='Missing'></a>\n",
    "## Feature engineering\n",
    "[Table of Contents](#Contents)\n"
   ]
  },
  {
   "cell_type": "code",
   "execution_count": 5,
   "id": "8dcc5218",
   "metadata": {
    "_kg_hide-input": true,
    "execution": {
     "iopub.execute_input": "2022-06-28T22:13:36.000643Z",
     "iopub.status.busy": "2022-06-28T22:13:35.999925Z",
     "iopub.status.idle": "2022-06-28T22:13:36.006358Z",
     "shell.execute_reply": "2022-06-28T22:13:36.005100Z"
    },
    "papermill": {
     "duration": 0.020628,
     "end_time": "2022-06-28T22:13:36.008686",
     "exception": false,
     "start_time": "2022-06-28T22:13:35.988058",
     "status": "completed"
    },
    "tags": []
   },
   "outputs": [],
   "source": [
    "df = df.drop('Id', axis=1)"
   ]
  },
  {
   "cell_type": "markdown",
   "id": "4565b742",
   "metadata": {
    "papermill": {
     "duration": 0.009794,
     "end_time": "2022-06-28T22:13:36.028333",
     "exception": false,
     "start_time": "2022-06-28T22:13:36.018539",
     "status": "completed"
    },
    "tags": []
   },
   "source": [
    "<a id='Describe'></a>\n",
    "## Describe the dataframe\n",
    "[Table of Contents](#Contents)"
   ]
  },
  {
   "cell_type": "code",
   "execution_count": 6,
   "id": "478cc217",
   "metadata": {
    "execution": {
     "iopub.execute_input": "2022-06-28T22:13:36.049678Z",
     "iopub.status.busy": "2022-06-28T22:13:36.049211Z",
     "iopub.status.idle": "2022-06-28T22:13:36.081444Z",
     "shell.execute_reply": "2022-06-28T22:13:36.080190Z"
    },
    "papermill": {
     "duration": 0.046265,
     "end_time": "2022-06-28T22:13:36.084285",
     "exception": false,
     "start_time": "2022-06-28T22:13:36.038020",
     "status": "completed"
    },
    "tags": []
   },
   "outputs": [
    {
     "data": {
      "text/html": [
       "<style type=\"text/css\">\n",
       "#T_3755c_row0_col0, #T_3755c_row0_col1, #T_3755c_row0_col2, #T_3755c_row0_col3, #T_3755c_row1_col0, #T_3755c_row4_col0, #T_3755c_row5_col0, #T_3755c_row6_col0, #T_3755c_row6_col2, #T_3755c_row7_col0, #T_3755c_row7_col2 {\n",
       "  background-color: #081d58;\n",
       "  color: #f1f1f1;\n",
       "}\n",
       "#T_3755c_row1_col1 {\n",
       "  background-color: #3db2c4;\n",
       "  color: #f1f1f1;\n",
       "}\n",
       "#T_3755c_row1_col2 {\n",
       "  background-color: #2076b3;\n",
       "  color: #f1f1f1;\n",
       "}\n",
       "#T_3755c_row1_col3 {\n",
       "  background-color: #f8fcca;\n",
       "  color: #000000;\n",
       "}\n",
       "#T_3755c_row2_col0, #T_3755c_row2_col1, #T_3755c_row2_col3, #T_3755c_row3_col2, #T_3755c_row3_col3, #T_3755c_row4_col3 {\n",
       "  background-color: #ffffd9;\n",
       "  color: #000000;\n",
       "}\n",
       "#T_3755c_row2_col2 {\n",
       "  background-color: #daf0b3;\n",
       "  color: #000000;\n",
       "}\n",
       "#T_3755c_row3_col0 {\n",
       "  background-color: #24449c;\n",
       "  color: #f1f1f1;\n",
       "}\n",
       "#T_3755c_row3_col1 {\n",
       "  background-color: #c6e9b4;\n",
       "  color: #000000;\n",
       "}\n",
       "#T_3755c_row4_col1 {\n",
       "  background-color: #59bfc0;\n",
       "  color: #000000;\n",
       "}\n",
       "#T_3755c_row4_col2 {\n",
       "  background-color: #e6f5b2;\n",
       "  color: #000000;\n",
       "}\n",
       "#T_3755c_row5_col1 {\n",
       "  background-color: #40b5c4;\n",
       "  color: #f1f1f1;\n",
       "}\n",
       "#T_3755c_row5_col2 {\n",
       "  background-color: #24409a;\n",
       "  color: #f1f1f1;\n",
       "}\n",
       "#T_3755c_row5_col3 {\n",
       "  background-color: #f4fbc1;\n",
       "  color: #000000;\n",
       "}\n",
       "#T_3755c_row6_col1 {\n",
       "  background-color: #2b9fc2;\n",
       "  color: #f1f1f1;\n",
       "}\n",
       "#T_3755c_row6_col3 {\n",
       "  background-color: #d6efb3;\n",
       "  color: #000000;\n",
       "}\n",
       "#T_3755c_row7_col1 {\n",
       "  background-color: #243c98;\n",
       "  color: #f1f1f1;\n",
       "}\n",
       "#T_3755c_row7_col3 {\n",
       "  background-color: #7ecdbb;\n",
       "  color: #000000;\n",
       "}\n",
       "</style>\n",
       "<table id=\"T_3755c_\">\n",
       "  <caption>Weather Conditions</caption>\n",
       "  <thead>\n",
       "    <tr>\n",
       "      <th class=\"blank level0\" >&nbsp;</th>\n",
       "      <th class=\"col_heading level0 col0\" >SepalLengthCm</th>\n",
       "      <th class=\"col_heading level0 col1\" >SepalWidthCm</th>\n",
       "      <th class=\"col_heading level0 col2\" >PetalLengthCm</th>\n",
       "      <th class=\"col_heading level0 col3\" >PetalWidthCm</th>\n",
       "    </tr>\n",
       "  </thead>\n",
       "  <tbody>\n",
       "    <tr>\n",
       "      <th id=\"T_3755c_level0_row0\" class=\"row_heading level0 row0\" >count</th>\n",
       "      <td id=\"T_3755c_row0_col0\" class=\"data row0 col0\" >150.000000</td>\n",
       "      <td id=\"T_3755c_row0_col1\" class=\"data row0 col1\" >150.000000</td>\n",
       "      <td id=\"T_3755c_row0_col2\" class=\"data row0 col2\" >150.000000</td>\n",
       "      <td id=\"T_3755c_row0_col3\" class=\"data row0 col3\" >150.000000</td>\n",
       "    </tr>\n",
       "    <tr>\n",
       "      <th id=\"T_3755c_level0_row1\" class=\"row_heading level0 row1\" >mean</th>\n",
       "      <td id=\"T_3755c_row1_col0\" class=\"data row1 col0\" >5.843333</td>\n",
       "      <td id=\"T_3755c_row1_col1\" class=\"data row1 col1\" >3.054000</td>\n",
       "      <td id=\"T_3755c_row1_col2\" class=\"data row1 col2\" >3.758667</td>\n",
       "      <td id=\"T_3755c_row1_col3\" class=\"data row1 col3\" >1.198667</td>\n",
       "    </tr>\n",
       "    <tr>\n",
       "      <th id=\"T_3755c_level0_row2\" class=\"row_heading level0 row2\" >std</th>\n",
       "      <td id=\"T_3755c_row2_col0\" class=\"data row2 col0\" >0.828066</td>\n",
       "      <td id=\"T_3755c_row2_col1\" class=\"data row2 col1\" >0.433594</td>\n",
       "      <td id=\"T_3755c_row2_col2\" class=\"data row2 col2\" >1.764420</td>\n",
       "      <td id=\"T_3755c_row2_col3\" class=\"data row2 col3\" >0.763161</td>\n",
       "    </tr>\n",
       "    <tr>\n",
       "      <th id=\"T_3755c_level0_row3\" class=\"row_heading level0 row3\" >min</th>\n",
       "      <td id=\"T_3755c_row3_col0\" class=\"data row3 col0\" >4.300000</td>\n",
       "      <td id=\"T_3755c_row3_col1\" class=\"data row3 col1\" >2.000000</td>\n",
       "      <td id=\"T_3755c_row3_col2\" class=\"data row3 col2\" >1.000000</td>\n",
       "      <td id=\"T_3755c_row3_col3\" class=\"data row3 col3\" >0.100000</td>\n",
       "    </tr>\n",
       "    <tr>\n",
       "      <th id=\"T_3755c_level0_row4\" class=\"row_heading level0 row4\" >25%</th>\n",
       "      <td id=\"T_3755c_row4_col0\" class=\"data row4 col0\" >5.100000</td>\n",
       "      <td id=\"T_3755c_row4_col1\" class=\"data row4 col1\" >2.800000</td>\n",
       "      <td id=\"T_3755c_row4_col2\" class=\"data row4 col2\" >1.600000</td>\n",
       "      <td id=\"T_3755c_row4_col3\" class=\"data row4 col3\" >0.300000</td>\n",
       "    </tr>\n",
       "    <tr>\n",
       "      <th id=\"T_3755c_level0_row5\" class=\"row_heading level0 row5\" >50%</th>\n",
       "      <td id=\"T_3755c_row5_col0\" class=\"data row5 col0\" >5.800000</td>\n",
       "      <td id=\"T_3755c_row5_col1\" class=\"data row5 col1\" >3.000000</td>\n",
       "      <td id=\"T_3755c_row5_col2\" class=\"data row5 col2\" >4.350000</td>\n",
       "      <td id=\"T_3755c_row5_col3\" class=\"data row5 col3\" >1.300000</td>\n",
       "    </tr>\n",
       "    <tr>\n",
       "      <th id=\"T_3755c_level0_row6\" class=\"row_heading level0 row6\" >75%</th>\n",
       "      <td id=\"T_3755c_row6_col0\" class=\"data row6 col0\" >6.400000</td>\n",
       "      <td id=\"T_3755c_row6_col1\" class=\"data row6 col1\" >3.300000</td>\n",
       "      <td id=\"T_3755c_row6_col2\" class=\"data row6 col2\" >5.100000</td>\n",
       "      <td id=\"T_3755c_row6_col3\" class=\"data row6 col3\" >1.800000</td>\n",
       "    </tr>\n",
       "    <tr>\n",
       "      <th id=\"T_3755c_level0_row7\" class=\"row_heading level0 row7\" >max</th>\n",
       "      <td id=\"T_3755c_row7_col0\" class=\"data row7 col0\" >7.900000</td>\n",
       "      <td id=\"T_3755c_row7_col1\" class=\"data row7 col1\" >4.400000</td>\n",
       "      <td id=\"T_3755c_row7_col2\" class=\"data row7 col2\" >6.900000</td>\n",
       "      <td id=\"T_3755c_row7_col3\" class=\"data row7 col3\" >2.500000</td>\n",
       "    </tr>\n",
       "  </tbody>\n",
       "</table>\n"
      ],
      "text/plain": [
       "<pandas.io.formats.style.Styler at 0x7f56377c7e10>"
      ]
     },
     "execution_count": 6,
     "metadata": {},
     "output_type": "execute_result"
    }
   ],
   "source": [
    "df.describe().style.pipe(make_pretty)"
   ]
  },
  {
   "cell_type": "code",
   "execution_count": 7,
   "id": "393a9cbc",
   "metadata": {
    "_kg_hide-input": true,
    "_kg_hide-output": true,
    "execution": {
     "iopub.execute_input": "2022-06-28T22:13:36.107074Z",
     "iopub.status.busy": "2022-06-28T22:13:36.106626Z",
     "iopub.status.idle": "2022-06-28T22:13:36.123679Z",
     "shell.execute_reply": "2022-06-28T22:13:36.122307Z"
    },
    "papermill": {
     "duration": 0.031991,
     "end_time": "2022-06-28T22:13:36.126721",
     "exception": false,
     "start_time": "2022-06-28T22:13:36.094730",
     "status": "completed"
    },
    "tags": []
   },
   "outputs": [
    {
     "name": "stdout",
     "output_type": "stream",
     "text": [
      "<class 'pandas.core.frame.DataFrame'>\n",
      "RangeIndex: 150 entries, 0 to 149\n",
      "Data columns (total 5 columns):\n",
      " #   Column         Non-Null Count  Dtype  \n",
      "---  ------         --------------  -----  \n",
      " 0   SepalLengthCm  150 non-null    float64\n",
      " 1   SepalWidthCm   150 non-null    float64\n",
      " 2   PetalLengthCm  150 non-null    float64\n",
      " 3   PetalWidthCm   150 non-null    float64\n",
      " 4   Species        150 non-null    object \n",
      "dtypes: float64(4), object(1)\n",
      "memory usage: 6.0+ KB\n"
     ]
    }
   ],
   "source": [
    "df.info()"
   ]
  },
  {
   "cell_type": "markdown",
   "id": "b3c89184",
   "metadata": {
    "papermill": {
     "duration": 0.010389,
     "end_time": "2022-06-28T22:13:36.147275",
     "exception": false,
     "start_time": "2022-06-28T22:13:36.136886",
     "status": "completed"
    },
    "tags": []
   },
   "source": [
    "<a id='Input'></a>\n",
    "## Model Input\n",
    "[Table of Contents](#Contents)\n",
    "\n",
    "\n",
    "Due to some of the 2-D dimensional experiments, only two of the four features are considered as the model input.\n",
    "\n",
    "Author: [Seyedsaman Emami](https://samanemami.github.io/)"
   ]
  },
  {
   "cell_type": "code",
   "execution_count": 8,
   "id": "a09d0fa4",
   "metadata": {
    "_kg_hide-input": true,
    "_kg_hide-output": true,
    "execution": {
     "iopub.execute_input": "2022-06-28T22:13:36.169693Z",
     "iopub.status.busy": "2022-06-28T22:13:36.169057Z",
     "iopub.status.idle": "2022-06-28T22:13:36.177821Z",
     "shell.execute_reply": "2022-06-28T22:13:36.176658Z"
    },
    "papermill": {
     "duration": 0.022825,
     "end_time": "2022-06-28T22:13:36.180347",
     "exception": false,
     "start_time": "2022-06-28T22:13:36.157522",
     "status": "completed"
    },
    "tags": []
   },
   "outputs": [
    {
     "name": "stdout",
     "output_type": "stream",
     "text": [
      "(150, 2) (150,)\n"
     ]
    }
   ],
   "source": [
    "X = (df.drop(columns=[\"Species\"])).values\n",
    "y = (df[\"Species\"]).values\n",
    "\n",
    "\n",
    "lb = LabelEncoder()\n",
    "y = lb.fit_transform(y)\n",
    "\n",
    "X = X[:, 2:]\n",
    "print(X.shape, y.shape)"
   ]
  },
  {
   "cell_type": "code",
   "execution_count": 9,
   "id": "5fd49e73",
   "metadata": {
    "_kg_hide-input": true,
    "_kg_hide-output": true,
    "execution": {
     "iopub.execute_input": "2022-06-28T22:13:36.203124Z",
     "iopub.status.busy": "2022-06-28T22:13:36.202692Z",
     "iopub.status.idle": "2022-06-28T22:13:36.210417Z",
     "shell.execute_reply": "2022-06-28T22:13:36.209252Z"
    },
    "papermill": {
     "duration": 0.021938,
     "end_time": "2022-06-28T22:13:36.212878",
     "exception": false,
     "start_time": "2022-06-28T22:13:36.190940",
     "status": "completed"
    },
    "tags": []
   },
   "outputs": [
    {
     "data": {
      "text/plain": [
       "3"
      ]
     },
     "execution_count": 9,
     "metadata": {},
     "output_type": "execute_result"
    }
   ],
   "source": [
    "n_classes = len(np.unique(y))\n",
    "n_classes"
   ]
  },
  {
   "cell_type": "markdown",
   "id": "3edeae5c",
   "metadata": {
    "_kg_hide-input": true,
    "papermill": {
     "duration": 0.010327,
     "end_time": "2022-06-28T22:13:36.233443",
     "exception": false,
     "start_time": "2022-06-28T22:13:36.223116",
     "status": "completed"
    },
    "tags": []
   },
   "source": [
    "<a id='Gradient'></a>\n",
    "# Gradient Boosting Classifier\n",
    "[Table of Contents](#Contents)\n",
    "\n",
    "Fitting Gradient Boosting Classifier model on the iris dataset"
   ]
  },
  {
   "cell_type": "code",
   "execution_count": 10,
   "id": "28727cfb",
   "metadata": {
    "_kg_hide-input": true,
    "_kg_hide-output": true,
    "execution": {
     "iopub.execute_input": "2022-06-28T22:13:36.256775Z",
     "iopub.status.busy": "2022-06-28T22:13:36.255489Z",
     "iopub.status.idle": "2022-06-28T22:13:36.669251Z",
     "shell.execute_reply": "2022-06-28T22:13:36.667993Z"
    },
    "papermill": {
     "duration": 0.428263,
     "end_time": "2022-06-28T22:13:36.672082",
     "exception": false,
     "start_time": "2022-06-28T22:13:36.243819",
     "status": "completed"
    },
    "tags": []
   },
   "outputs": [
    {
     "data": {
      "text/plain": [
       "GradientBoostingClassifier(criterion='squared_error', max_depth=5,\n",
       "                           max_features='sqrt', random_state=123,\n",
       "                           subsample=0.75)"
      ]
     },
     "execution_count": 10,
     "metadata": {},
     "output_type": "execute_result"
    }
   ],
   "source": [
    "gb = GradientBoostingClassifier(max_depth=5,\n",
    "                                subsample=0.75,\n",
    "                                max_features=\"sqrt\",\n",
    "                                learning_rate=0.1,\n",
    "                                random_state=random_state,\n",
    "                                criterion=\"squared_error\",\n",
    "                                n_estimators=100)\n",
    "\n",
    "gb.fit(X, y)"
   ]
  },
  {
   "cell_type": "markdown",
   "id": "93bcc26b",
   "metadata": {
    "papermill": {
     "duration": 0.010144,
     "end_time": "2022-06-28T22:13:36.692863",
     "exception": false,
     "start_time": "2022-06-28T22:13:36.682719",
     "status": "completed"
    },
    "tags": []
   },
   "source": [
    "<a id='AnalyzingtheGradientModel'></a>\n",
    "# Analyzing the Gradient Model\n",
    "[Table of Contents](#Contents)"
   ]
  },
  {
   "cell_type": "markdown",
   "id": "c70a9eef",
   "metadata": {
    "papermill": {
     "duration": 0.010022,
     "end_time": "2022-06-28T22:13:36.713547",
     "exception": false,
     "start_time": "2022-06-28T22:13:36.703525",
     "status": "completed"
    },
    "tags": []
   },
   "source": [
    "<a id='plot_tree'></a>\n",
    "## Plot tree\n",
    "[Table of Contents](#Contents)\n",
    "\n",
    "> Draw the first decision Tree for each class\n",
    "\n",
    "The first decision tree regressor of each class is plotted with the values of the impurity (MSE) and the final predicted values"
   ]
  },
  {
   "cell_type": "code",
   "execution_count": 11,
   "id": "6b7d12d4",
   "metadata": {
    "_kg_hide-input": true,
    "_kg_hide-output": true,
    "execution": {
     "iopub.execute_input": "2022-06-28T22:13:36.736770Z",
     "iopub.status.busy": "2022-06-28T22:13:36.736380Z",
     "iopub.status.idle": "2022-06-28T22:13:36.741960Z",
     "shell.execute_reply": "2022-06-28T22:13:36.740665Z"
    },
    "papermill": {
     "duration": 0.020457,
     "end_time": "2022-06-28T22:13:36.744505",
     "exception": false,
     "start_time": "2022-06-28T22:13:36.724048",
     "status": "completed"
    },
    "tags": []
   },
   "outputs": [],
   "source": [
    "def plot(tree, axs):\n",
    "\n",
    "    plot_tree(tree, filled=True, rounded=True,\n",
    "              precision=2, ax=axs, label=\"root\")"
   ]
  },
  {
   "cell_type": "code",
   "execution_count": 12,
   "id": "b2602dcf",
   "metadata": {
    "execution": {
     "iopub.execute_input": "2022-06-28T22:13:36.767148Z",
     "iopub.status.busy": "2022-06-28T22:13:36.766753Z",
     "iopub.status.idle": "2022-06-28T22:13:38.191723Z",
     "shell.execute_reply": "2022-06-28T22:13:38.190390Z"
    },
    "papermill": {
     "duration": 1.44064,
     "end_time": "2022-06-28T22:13:38.195403",
     "exception": false,
     "start_time": "2022-06-28T22:13:36.754763",
     "status": "completed"
    },
    "tags": []
   },
   "outputs": [
    {
     "data": {
      "image/png": "[encoded data removed]",
      "text/plain": [
       "<Figure size 2160x504 with 3 Axes>"
      ]
     },
     "metadata": {},
     "output_type": "display_data"
    }
   ],
   "source": [
    "fig1, axs1 = plt.subplots(1, 3, figsize=(30, 7), facecolor=\"w\")\n",
    "\n",
    "# Plot (Tree) two first class only\n",
    "for i in range(n_classes):\n",
    "    tree_gb = gb.estimators_[0][i]\n",
    "    plot(tree_gb, axs1[i])\n",
    "    axs1[i].set_title(\"class \" + str(i))"
   ]
  },
  {
   "cell_type": "markdown",
   "id": "994c29d3",
   "metadata": {
    "_kg_hide-input": false,
    "papermill": {
     "duration": 0.011962,
     "end_time": "2022-06-28T22:13:38.219111",
     "exception": false,
     "start_time": "2022-06-28T22:13:38.207149",
     "status": "completed"
    },
    "tags": []
   },
   "source": [
    "<a id='terminal_leaves_def'></a>\n",
    "## Terminal leaves\n",
    "[Table of Contents](#Contents)\n",
    "\n",
    "> Returning the Terminal values of the trees\n",
    "\n",
    "The regression values of the terminal of final nodes of each class and first tree are plotted\n",
    "\n",
    "Author: [Seyedsaman Emami](https://samanemami.github.io/)"
   ]
  },
  {
   "cell_type": "code",
   "execution_count": 13,
   "id": "3ab1d708",
   "metadata": {
    "_kg_hide-input": true,
    "execution": {
     "iopub.execute_input": "2022-06-28T22:13:38.245959Z",
     "iopub.status.busy": "2022-06-28T22:13:38.245055Z",
     "iopub.status.idle": "2022-06-28T22:13:38.255135Z",
     "shell.execute_reply": "2022-06-28T22:13:38.254141Z"
    },
    "papermill": {
     "duration": 0.026573,
     "end_time": "2022-06-28T22:13:38.257906",
     "exception": false,
     "start_time": "2022-06-28T22:13:38.231333",
     "status": "completed"
    },
    "tags": []
   },
   "outputs": [],
   "source": [
    "def terminal_leaves(model, tree, class_):\n",
    "    # Return the terminal regions values\n",
    "    est = model.estimators_[tree][class_]\n",
    "    children_left = est.tree_.children_left\n",
    "    children_right = est.tree_.children_right\n",
    "    n_nodes = est.tree_.node_count\n",
    "    is_leaves = np.zeros(shape=n_nodes, dtype=bool)\n",
    "\n",
    "    stack = [(0, 0)] \n",
    "    while len(stack) > 0:\n",
    "        node_id, depth = stack.pop()\n",
    "\n",
    "        is_split_node = children_left[node_id] != children_right[node_id]\n",
    "\n",
    "        if is_split_node:\n",
    "            stack.append((children_left[node_id], depth + 1))\n",
    "            stack.append((children_right[node_id], depth + 1))\n",
    "        else:\n",
    "            is_leaves[node_id] = True\n",
    "    terminal_leave = est.tree_.value[np.where(is_leaves == True)]\n",
    "    terminal_leave = terminal_leave.reshape(-1, 1)[:, 0]\n",
    "    return terminal_leave"
   ]
  },
  {
   "cell_type": "code",
   "execution_count": 14,
   "id": "796e15be",
   "metadata": {
    "execution": {
     "iopub.execute_input": "2022-06-28T22:13:38.283856Z",
     "iopub.status.busy": "2022-06-28T22:13:38.283435Z",
     "iopub.status.idle": "2022-06-28T22:13:38.879250Z",
     "shell.execute_reply": "2022-06-28T22:13:38.878123Z"
    },
    "papermill": {
     "duration": 0.612135,
     "end_time": "2022-06-28T22:13:38.881801",
     "exception": false,
     "start_time": "2022-06-28T22:13:38.269666",
     "status": "completed"
    },
    "tags": []
   },
   "outputs": [
    {
     "data": {
      "text/plain": [
       "Text(0.5, 0.98, 'Terminal continuous values of the decision tree regressor')"
      ]
     },
     "execution_count": 14,
     "metadata": {},
     "output_type": "execute_result"
    },
    {
     "data": {
      "image/png": "[encoded data removed]",
      "text/plain": [
       "<Figure size 2160x504 with 3 Axes>"
      ]
     },
     "metadata": {},
     "output_type": "display_data"
    }
   ],
   "source": [
    "fig2, axs2 = plt.subplots(1, 3, figsize=(30, 7), facecolor=\"w\")\n",
    "\n",
    "# Plot (Tree) two first class only\n",
    "for i in range(n_classes):\n",
    "    axs2[i].plot(terminal_leaves(gb, 0, i))\n",
    "    axs2[i].set_title(\"class \" + str(i))\n",
    "fig2.suptitle(\"Terminal continuous values of the decision tree regressor\")"
   ]
  },
  {
   "cell_type": "code",
   "execution_count": 15,
   "id": "11aa5014",
   "metadata": {
    "_kg_hide-input": true,
    "execution": {
     "iopub.execute_input": "2022-06-28T22:13:38.910121Z",
     "iopub.status.busy": "2022-06-28T22:13:38.908969Z",
     "iopub.status.idle": "2022-06-28T22:13:38.916352Z",
     "shell.execute_reply": "2022-06-28T22:13:38.915414Z"
    },
    "papermill": {
     "duration": 0.024435,
     "end_time": "2022-06-28T22:13:38.919161",
     "exception": false,
     "start_time": "2022-06-28T22:13:38.894726",
     "status": "completed"
    },
    "tags": []
   },
   "outputs": [],
   "source": [
    "def interpolating(data):\n",
    "    y = [i for i in range(data.shape[0])]\n",
    "    idx = range(len(y))\n",
    "    x = np.linspace(min(idx), max(idx), 300)\n",
    "\n",
    "    spl = make_interp_spline(idx, data, k=3)\n",
    "    smooth = spl(x)\n",
    "\n",
    "    return x, smooth"
   ]
  },
  {
   "cell_type": "markdown",
   "id": "03a3519e",
   "metadata": {
    "papermill": {
     "duration": 0.013365,
     "end_time": "2022-06-28T22:13:38.946179",
     "exception": false,
     "start_time": "2022-06-28T22:13:38.932814",
     "status": "completed"
    },
    "tags": []
   },
   "source": [
    "<a id='B-spline'></a>\n",
    "### B-spline function\n",
    "[Table of Contents](#Contents)\n",
    "\n",
    "\n",
    "The regression values of the terminal of final nodes (smoothed curve of the leaves values) of the last class\n",
    "\n"
   ]
  },
  {
   "cell_type": "code",
   "execution_count": 16,
   "id": "50aea4f3",
   "metadata": {
    "execution": {
     "iopub.execute_input": "2022-06-28T22:13:38.976164Z",
     "iopub.status.busy": "2022-06-28T22:13:38.974942Z",
     "iopub.status.idle": "2022-06-28T22:13:39.181703Z",
     "shell.execute_reply": "2022-06-28T22:13:39.180269Z"
    },
    "papermill": {
     "duration": 0.224502,
     "end_time": "2022-06-28T22:13:39.184683",
     "exception": false,
     "start_time": "2022-06-28T22:13:38.960181",
     "status": "completed"
    },
    "tags": []
   },
   "outputs": [
    {
     "data": {
      "text/plain": [
       "[<matplotlib.lines.Line2D at 0x7f5611462ad0>]"
      ]
     },
     "execution_count": 16,
     "metadata": {},
     "output_type": "execute_result"
    },
    {
     "data": {
      "image/png": "[encoded data removed]",
      "text/plain": [
       "<Figure size 432x288 with 1 Axes>"
      ]
     },
     "metadata": {},
     "output_type": "display_data"
    }
   ],
   "source": [
    "x_new, smooth = interpolating(terminal_leaves(gb, 0, 2))\n",
    "plt.plot(x_new, smooth)"
   ]
  },
  {
   "cell_type": "markdown",
   "id": "0718edf9",
   "metadata": {
    "papermill": {
     "duration": 0.013531,
     "end_time": "2022-06-28T22:13:39.211451",
     "exception": false,
     "start_time": "2022-06-28T22:13:39.197920",
     "status": "completed"
    },
    "tags": []
   },
   "source": [
    "<a id='Decision_Boundaries_def'></a>\n",
    "## Decision Boundaries\n",
    "[Table of Contents](#Contents)\n",
    "\n",
    "* Decision boundaries for the regression values of n_estimators (100 regression trees) and each class.\n",
    "* Decision boundaries of the predicted values (converted to clf) of the first decision tree regressor and each class."
   ]
  },
  {
   "cell_type": "code",
   "execution_count": 17,
   "id": "577228d8",
   "metadata": {
    "_kg_hide-input": true,
    "execution": {
     "iopub.execute_input": "2022-06-28T22:13:39.239822Z",
     "iopub.status.busy": "2022-06-28T22:13:39.239451Z",
     "iopub.status.idle": "2022-06-28T22:13:39.259469Z",
     "shell.execute_reply": "2022-06-28T22:13:39.258486Z"
    },
    "papermill": {
     "duration": 0.037961,
     "end_time": "2022-06-28T22:13:39.262698",
     "exception": false,
     "start_time": "2022-06-28T22:13:39.224737",
     "status": "completed"
    },
    "tags": []
   },
   "outputs": [],
   "source": [
    "def boundaries(X=np.array,\n",
    "               y=np.array,\n",
    "               model=np.array,\n",
    "               tree=0,\n",
    "               class_=-1,\n",
    "               title='title',\n",
    "               axs=plt.axes):\n",
    "\n",
    "    level = 11\n",
    "    cm = plt.cm.viridis\n",
    "\n",
    "    n_classes = len(np.unique(y))\n",
    "    n_estimator = model.get_params()['n_estimators']\n",
    "    learning_rate = model.get_params()['learning_rate']\n",
    "    regression = True if class_ >= 0 else False\n",
    "\n",
    "    x_min, x_max = X[:, 0].min() - 1, X[:, 0].max() + 1\n",
    "    y_min, y_max = X[:, 1].min() - 1, X[:, 1].max() + 1\n",
    "    xx, yy = np.meshgrid(np.arange(x_min, x_max, 0.1),\n",
    "                         np.arange(y_min, y_max, 0.1))\n",
    "\n",
    "    pred = np.zeros((xx.ravel().shape[0], n_classes))\n",
    "\n",
    "    if not regression:\n",
    "        # Plot the Decision boundary for one tree only\n",
    "        for i in range(n_classes):\n",
    "            tree_ = model.estimators_[tree][i]\n",
    "            pred_ = tree_.predict(np.c_[xx.ravel(), yy.ravel()])\n",
    "            pred[:, i] = pred_ * learning_rate\n",
    "    else:\n",
    "        # Plot the Decision boundary for all of the trees\n",
    "        for c in range(n_classes):\n",
    "            for i in range(n_estimator):\n",
    "                tree_ = model.estimators_[i][c]\n",
    "                pred[:, c] += (learning_rate *\n",
    "                               tree_.predict(np.c_[xx.ravel(),\n",
    "                                                   yy.ravel()]))\n",
    "\n",
    "    if not regression:\n",
    "        # Return Decision boundary for one tree and predict_proba (classification).\n",
    "        proba = np.nan_to_num(\n",
    "            np.exp(pred - (logsumexp(pred, axis=1)[:, np.newaxis])))\n",
    "        Z = np.argmax(proba, axis=1)\n",
    "        Z = Z.reshape(xx.shape)\n",
    "\n",
    "        axs.contourf(xx, yy, Z, level, alpha=1, cmap=cm)\n",
    "        CS = axs.contourf(xx, yy, Z, level, cmap=cm, shrink=0.9)\n",
    "        axs.contour(xx, yy, Z, [0.0], linewidths=2, colors='k')\n",
    "        axs.scatter(X[:, 0], X[:, 1], c=y, s=40, edgecolor='k')\n",
    "    else:\n",
    "        # Return Decision boundary for one tree and predict (Regression)\n",
    "        Z = pred[:, class_].reshape(xx.shape)\n",
    "\n",
    "        axs.contourf(xx, yy, Z, level, alpha=1, cmap=cm)\n",
    "        CS = axs.contourf(xx, yy, Z, level, cmap=cm, shrink=0.9)\n",
    "\n",
    "    axs.set_title(title)\n",
    "\n",
    "    plt.gca().set_xlim(xx.min(), xx.max())\n",
    "    plt.gca().set_ylim(yy.min(), yy.max())\n",
    "\n",
    "    axs.grid(True)\n",
    "\n",
    "    return CS"
   ]
  },
  {
   "cell_type": "markdown",
   "id": "b711c5ef",
   "metadata": {
    "papermill": {
     "duration": 0.013942,
     "end_time": "2022-06-28T22:13:39.290223",
     "exception": false,
     "start_time": "2022-06-28T22:13:39.276281",
     "status": "completed"
    },
    "tags": []
   },
   "source": [
    "<a id='Decision_Boundaries_reg'></a>\n",
    "### Regression Decision Boundaries\n",
    "[Table of Contents](#Contents)\n",
    "\n",
    "This part reveals the decision tree regressor models (Boosting base learners) performance. \n",
    "\n",
    "Their prediction of the previous residual is accumulated by considering the learning rate and all the prior boosting steps.\n",
    "\n",
    "You can find the regression performance of each class separately with the range of the predicted values."
   ]
  },
  {
   "cell_type": "code",
   "execution_count": 18,
   "id": "71a7f944",
   "metadata": {
    "execution": {
     "iopub.execute_input": "2022-06-28T22:13:39.320182Z",
     "iopub.status.busy": "2022-06-28T22:13:39.319470Z",
     "iopub.status.idle": "2022-06-28T22:13:40.228761Z",
     "shell.execute_reply": "2022-06-28T22:13:40.227416Z"
    },
    "papermill": {
     "duration": 0.926717,
     "end_time": "2022-06-28T22:13:40.231459",
     "exception": false,
     "start_time": "2022-06-28T22:13:39.304742",
     "status": "completed"
    },
    "tags": []
   },
   "outputs": [
    {
     "data": {
      "image/png": "[encoded data removed]",
      "text/plain": [
       "<Figure size 1440x216 with 6 Axes>"
      ]
     },
     "metadata": {},
     "output_type": "display_data"
    }
   ],
   "source": [
    "fig3, axs3 = plt.subplots(1, 3, figsize=(20, 3), facecolor=\"w\")\n",
    "\n",
    "for i in range(n_classes):\n",
    "    CS = boundaries(X=X, y=y, model=gb, class_=i,\n",
    "                    title='class:' + str(i), axs=axs3[i])\n",
    "    fig3.colorbar(CS, ax=axs3[i])"
   ]
  },
  {
   "cell_type": "markdown",
   "id": "875e586e",
   "metadata": {
    "papermill": {
     "duration": 0.014056,
     "end_time": "2022-06-28T22:13:40.259247",
     "exception": false,
     "start_time": "2022-06-28T22:13:40.245191",
     "status": "completed"
    },
    "tags": []
   },
   "source": [
    "<a id='Decision_Boundaries_clf'></a>\n",
    "### Classification Decision Boundaries\n",
    "[Table of Contents](#Contents)\n",
    "\n",
    "The main difference between this plot and the previous one is that this one is for the first-week learner (not all the estimators). \n",
    "\n",
    "Moreover, here I am plotting the decision boundary of the classifier, which means I transformed the prediction to probability and found the class label with regards to all the class labels. \n",
    "\n",
    "Author: [Seyedsaman Emami](https://samanemami.github.io/)"
   ]
  },
  {
   "cell_type": "code",
   "execution_count": 19,
   "id": "6f0268c7",
   "metadata": {
    "execution": {
     "iopub.execute_input": "2022-06-28T22:13:40.290029Z",
     "iopub.status.busy": "2022-06-28T22:13:40.289136Z",
     "iopub.status.idle": "2022-06-28T22:13:40.817468Z",
     "shell.execute_reply": "2022-06-28T22:13:40.816125Z"
    },
    "papermill": {
     "duration": 0.546903,
     "end_time": "2022-06-28T22:13:40.820123",
     "exception": false,
     "start_time": "2022-06-28T22:13:40.273220",
     "status": "completed"
    },
    "tags": []
   },
   "outputs": [
    {
     "data": {
      "text/plain": [
       "<matplotlib.colorbar.Colorbar at 0x7f5610224850>"
      ]
     },
     "execution_count": 19,
     "metadata": {},
     "output_type": "execute_result"
    },
    {
     "data": {
      "image/png": "[encoded data removed]",
      "text/plain": [
       "<Figure size 504x360 with 2 Axes>"
      ]
     },
     "metadata": {},
     "output_type": "display_data"
    }
   ],
   "source": [
    "fig3, axs3 = plt.subplots(1, 1, figsize=(7, 5), facecolor=\"w\")\n",
    "\n",
    "CS = boundaries(X=X, y=y, model=gb, tree=0, class_=-1,\n",
    "                title='all classes', axs=axs3)\n",
    "fig2.colorbar(CS, ax=axs3)"
   ]
  },
  {
   "cell_type": "markdown",
   "id": "7caa4ca1",
   "metadata": {
    "papermill": {
     "duration": 0.014744,
     "end_time": "2022-06-28T22:13:40.849770",
     "exception": false,
     "start_time": "2022-06-28T22:13:40.835026",
     "status": "completed"
    },
    "tags": []
   },
   "source": [
    "<a id='Conclusion'></a>\n",
    "# Conclusion\n",
    "[Table of Contents](#Contents)"
   ]
  },
  {
   "cell_type": "markdown",
   "id": "1de96f9f",
   "metadata": {
    "papermill": {
     "duration": 0.014597,
     "end_time": "2022-06-28T22:13:40.879027",
     "exception": false,
     "start_time": "2022-06-28T22:13:40.864430",
     "status": "completed"
    },
    "tags": []
   },
   "source": [
    "In this Notebook, The performance of the week learners of the Boosting Machine, which is a well-known ensemble model is analyzed.\n",
    "\n",
    "This study is different from the ones, which are considering the ensemble performance. Unlike other studies, here I concentrated on the performances of the decision trees.\n",
    "\n",
    "Author: [Seyedsaman Emami](https://samanemami.github.io/)"
   ]
  }
 ],
 "metadata": {
  "kernelspec": {
   "display_name": "Python 3 (ipykernel)",
   "language": "python",
   "name": "python3"
  },
  "language_info": {
   "codemirror_mode": {
    "name": "ipython",
    "version": 3
   },
   "file_extension": ".py",
   "mimetype": "text/x-python",
   "name": "python",
   "nbconvert_exporter": "python",
   "pygments_lexer": "ipython3",
   "version": "3.10.5"
  },
  "papermill": {
   "default_parameters": {},
   "duration": 18.697166,
   "end_time": "2022-06-28T22:13:41.718570",
   "environment_variables": {},
   "exception": null,
   "input_path": "__notebook__.ipynb",
   "output_path": "__notebook__.ipynb",
   "parameters": {},
   "start_time": "2022-06-28T22:13:23.021404",
   "version": "2.3.4"
  }
 },
 "nbformat": 4,
 "nbformat_minor": 5
}
